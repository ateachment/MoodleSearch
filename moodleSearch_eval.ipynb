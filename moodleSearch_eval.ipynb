{
  "nbformat": 4,
  "nbformat_minor": 0,
  "metadata": {
    "colab": {
      "name": "moodleSearch_eval.ipynb",
      "provenance": [],
      "collapsed_sections": [],
      "authorship_tag": "ABX9TyNFxdhteRPn4yNfwD3pyVno",
      "include_colab_link": true
    },
    "kernelspec": {
      "name": "python3",
      "display_name": "Python 3"
    },
    "language_info": {
      "name": "python"
    }
  },
  "cells": [
    {
      "cell_type": "markdown",
      "metadata": {
        "id": "view-in-github",
        "colab_type": "text"
      },
      "source": [
        "<a href=\"https://colab.research.google.com/github/ateachment/MoodleSearch/blob/main/moodleSearch_eval.ipynb\" target=\"_parent\"><img src=\"https://colab.research.google.com/assets/colab-badge.svg\" alt=\"Open In Colab\"/></a>"
      ]
    },
    {
      "cell_type": "markdown",
      "source": [
        "Lemmatisierung deutscher Sprache: \n",
        "https://nickyreinert.de/blog/2020/12/09/einfuehrung-in-stemming-und-lemmatisierung-deutscher-texte-mit-python/\n",
        "\n",
        "Installation von HanoverTagger (wird :"
      ],
      "metadata": {
        "id": "_eOGZGBMo1RR"
      }
    },
    {
      "cell_type": "code",
      "source": [
        "pip install HanTa # install lemmatizer of german language"
      ],
      "metadata": {
        "colab": {
          "base_uri": "https://localhost:8080/"
        },
        "id": "5C4I2-U9oWOh",
        "outputId": "baf06bdd-e45d-4433-cfe7-e82dd5cb2f35"
      },
      "execution_count": 1,
      "outputs": [
        {
          "output_type": "stream",
          "name": "stdout",
          "text": [
            "Collecting HanTa\n",
            "  Downloading HanTa-0.2.0-py3-none-any.whl (1.5 MB)\n",
            "\u001b[?25l\r\u001b[K     |▎                               | 10 kB 34.0 MB/s eta 0:00:01\r\u001b[K     |▌                               | 20 kB 41.1 MB/s eta 0:00:01\r\u001b[K     |▊                               | 30 kB 42.4 MB/s eta 0:00:01\r\u001b[K     |█                               | 40 kB 15.7 MB/s eta 0:00:01\r\u001b[K     |█▏                              | 51 kB 13.8 MB/s eta 0:00:01\r\u001b[K     |█▍                              | 61 kB 16.1 MB/s eta 0:00:01\r\u001b[K     |█▋                              | 71 kB 11.1 MB/s eta 0:00:01\r\u001b[K     |█▉                              | 81 kB 12.1 MB/s eta 0:00:01\r\u001b[K     |██                              | 92 kB 13.4 MB/s eta 0:00:01\r\u001b[K     |██▎                             | 102 kB 14.3 MB/s eta 0:00:01\r\u001b[K     |██▌                             | 112 kB 14.3 MB/s eta 0:00:01\r\u001b[K     |██▊                             | 122 kB 14.3 MB/s eta 0:00:01\r\u001b[K     |███                             | 133 kB 14.3 MB/s eta 0:00:01\r\u001b[K     |███▏                            | 143 kB 14.3 MB/s eta 0:00:01\r\u001b[K     |███▍                            | 153 kB 14.3 MB/s eta 0:00:01\r\u001b[K     |███▋                            | 163 kB 14.3 MB/s eta 0:00:01\r\u001b[K     |███▉                            | 174 kB 14.3 MB/s eta 0:00:01\r\u001b[K     |████                            | 184 kB 14.3 MB/s eta 0:00:01\r\u001b[K     |████▎                           | 194 kB 14.3 MB/s eta 0:00:01\r\u001b[K     |████▌                           | 204 kB 14.3 MB/s eta 0:00:01\r\u001b[K     |████▊                           | 215 kB 14.3 MB/s eta 0:00:01\r\u001b[K     |█████                           | 225 kB 14.3 MB/s eta 0:00:01\r\u001b[K     |█████▏                          | 235 kB 14.3 MB/s eta 0:00:01\r\u001b[K     |█████▍                          | 245 kB 14.3 MB/s eta 0:00:01\r\u001b[K     |█████▋                          | 256 kB 14.3 MB/s eta 0:00:01\r\u001b[K     |█████▉                          | 266 kB 14.3 MB/s eta 0:00:01\r\u001b[K     |██████                          | 276 kB 14.3 MB/s eta 0:00:01\r\u001b[K     |██████▎                         | 286 kB 14.3 MB/s eta 0:00:01\r\u001b[K     |██████▌                         | 296 kB 14.3 MB/s eta 0:00:01\r\u001b[K     |██████▊                         | 307 kB 14.3 MB/s eta 0:00:01\r\u001b[K     |███████                         | 317 kB 14.3 MB/s eta 0:00:01\r\u001b[K     |███████▏                        | 327 kB 14.3 MB/s eta 0:00:01\r\u001b[K     |███████▍                        | 337 kB 14.3 MB/s eta 0:00:01\r\u001b[K     |███████▋                        | 348 kB 14.3 MB/s eta 0:00:01\r\u001b[K     |███████▉                        | 358 kB 14.3 MB/s eta 0:00:01\r\u001b[K     |████████                        | 368 kB 14.3 MB/s eta 0:00:01\r\u001b[K     |████████▎                       | 378 kB 14.3 MB/s eta 0:00:01\r\u001b[K     |████████▌                       | 389 kB 14.3 MB/s eta 0:00:01\r\u001b[K     |████████▊                       | 399 kB 14.3 MB/s eta 0:00:01\r\u001b[K     |█████████                       | 409 kB 14.3 MB/s eta 0:00:01\r\u001b[K     |█████████▏                      | 419 kB 14.3 MB/s eta 0:00:01\r\u001b[K     |█████████▍                      | 430 kB 14.3 MB/s eta 0:00:01\r\u001b[K     |█████████▊                      | 440 kB 14.3 MB/s eta 0:00:01\r\u001b[K     |██████████                      | 450 kB 14.3 MB/s eta 0:00:01\r\u001b[K     |██████████▏                     | 460 kB 14.3 MB/s eta 0:00:01\r\u001b[K     |██████████▍                     | 471 kB 14.3 MB/s eta 0:00:01\r\u001b[K     |██████████▋                     | 481 kB 14.3 MB/s eta 0:00:01\r\u001b[K     |██████████▉                     | 491 kB 14.3 MB/s eta 0:00:01\r\u001b[K     |███████████                     | 501 kB 14.3 MB/s eta 0:00:01\r\u001b[K     |███████████▎                    | 512 kB 14.3 MB/s eta 0:00:01\r\u001b[K     |███████████▌                    | 522 kB 14.3 MB/s eta 0:00:01\r\u001b[K     |███████████▊                    | 532 kB 14.3 MB/s eta 0:00:01\r\u001b[K     |████████████                    | 542 kB 14.3 MB/s eta 0:00:01\r\u001b[K     |████████████▏                   | 552 kB 14.3 MB/s eta 0:00:01\r\u001b[K     |████████████▍                   | 563 kB 14.3 MB/s eta 0:00:01\r\u001b[K     |████████████▋                   | 573 kB 14.3 MB/s eta 0:00:01\r\u001b[K     |████████████▉                   | 583 kB 14.3 MB/s eta 0:00:01\r\u001b[K     |█████████████                   | 593 kB 14.3 MB/s eta 0:00:01\r\u001b[K     |█████████████▎                  | 604 kB 14.3 MB/s eta 0:00:01\r\u001b[K     |█████████████▌                  | 614 kB 14.3 MB/s eta 0:00:01\r\u001b[K     |█████████████▊                  | 624 kB 14.3 MB/s eta 0:00:01\r\u001b[K     |██████████████                  | 634 kB 14.3 MB/s eta 0:00:01\r\u001b[K     |██████████████▏                 | 645 kB 14.3 MB/s eta 0:00:01\r\u001b[K     |██████████████▍                 | 655 kB 14.3 MB/s eta 0:00:01\r\u001b[K     |██████████████▋                 | 665 kB 14.3 MB/s eta 0:00:01\r\u001b[K     |██████████████▉                 | 675 kB 14.3 MB/s eta 0:00:01\r\u001b[K     |███████████████                 | 686 kB 14.3 MB/s eta 0:00:01\r\u001b[K     |███████████████▎                | 696 kB 14.3 MB/s eta 0:00:01\r\u001b[K     |███████████████▌                | 706 kB 14.3 MB/s eta 0:00:01\r\u001b[K     |███████████████▊                | 716 kB 14.3 MB/s eta 0:00:01\r\u001b[K     |████████████████                | 727 kB 14.3 MB/s eta 0:00:01\r\u001b[K     |████████████████▏               | 737 kB 14.3 MB/s eta 0:00:01\r\u001b[K     |████████████████▍               | 747 kB 14.3 MB/s eta 0:00:01\r\u001b[K     |████████████████▋               | 757 kB 14.3 MB/s eta 0:00:01\r\u001b[K     |████████████████▉               | 768 kB 14.3 MB/s eta 0:00:01\r\u001b[K     |█████████████████               | 778 kB 14.3 MB/s eta 0:00:01\r\u001b[K     |█████████████████▎              | 788 kB 14.3 MB/s eta 0:00:01\r\u001b[K     |█████████████████▌              | 798 kB 14.3 MB/s eta 0:00:01\r\u001b[K     |█████████████████▊              | 808 kB 14.3 MB/s eta 0:00:01\r\u001b[K     |██████████████████              | 819 kB 14.3 MB/s eta 0:00:01\r\u001b[K     |██████████████████▏             | 829 kB 14.3 MB/s eta 0:00:01\r\u001b[K     |██████████████████▍             | 839 kB 14.3 MB/s eta 0:00:01\r\u001b[K     |██████████████████▋             | 849 kB 14.3 MB/s eta 0:00:01\r\u001b[K     |██████████████████▉             | 860 kB 14.3 MB/s eta 0:00:01\r\u001b[K     |███████████████████             | 870 kB 14.3 MB/s eta 0:00:01\r\u001b[K     |███████████████████▍            | 880 kB 14.3 MB/s eta 0:00:01\r\u001b[K     |███████████████████▋            | 890 kB 14.3 MB/s eta 0:00:01\r\u001b[K     |███████████████████▉            | 901 kB 14.3 MB/s eta 0:00:01\r\u001b[K     |████████████████████            | 911 kB 14.3 MB/s eta 0:00:01\r\u001b[K     |████████████████████▎           | 921 kB 14.3 MB/s eta 0:00:01\r\u001b[K     |████████████████████▌           | 931 kB 14.3 MB/s eta 0:00:01\r\u001b[K     |████████████████████▊           | 942 kB 14.3 MB/s eta 0:00:01\r\u001b[K     |█████████████████████           | 952 kB 14.3 MB/s eta 0:00:01\r\u001b[K     |█████████████████████▏          | 962 kB 14.3 MB/s eta 0:00:01\r\u001b[K     |█████████████████████▍          | 972 kB 14.3 MB/s eta 0:00:01\r\u001b[K     |█████████████████████▋          | 983 kB 14.3 MB/s eta 0:00:01\r\u001b[K     |█████████████████████▉          | 993 kB 14.3 MB/s eta 0:00:01\r\u001b[K     |██████████████████████          | 1.0 MB 14.3 MB/s eta 0:00:01\r\u001b[K     |██████████████████████▎         | 1.0 MB 14.3 MB/s eta 0:00:01\r\u001b[K     |██████████████████████▌         | 1.0 MB 14.3 MB/s eta 0:00:01\r\u001b[K     |██████████████████████▊         | 1.0 MB 14.3 MB/s eta 0:00:01\r\u001b[K     |███████████████████████         | 1.0 MB 14.3 MB/s eta 0:00:01\r\u001b[K     |███████████████████████▏        | 1.1 MB 14.3 MB/s eta 0:00:01\r\u001b[K     |███████████████████████▍        | 1.1 MB 14.3 MB/s eta 0:00:01\r\u001b[K     |███████████████████████▋        | 1.1 MB 14.3 MB/s eta 0:00:01\r\u001b[K     |███████████████████████▉        | 1.1 MB 14.3 MB/s eta 0:00:01\r\u001b[K     |████████████████████████        | 1.1 MB 14.3 MB/s eta 0:00:01\r\u001b[K     |████████████████████████▎       | 1.1 MB 14.3 MB/s eta 0:00:01\r\u001b[K     |████████████████████████▌       | 1.1 MB 14.3 MB/s eta 0:00:01\r\u001b[K     |████████████████████████▊       | 1.1 MB 14.3 MB/s eta 0:00:01\r\u001b[K     |█████████████████████████       | 1.1 MB 14.3 MB/s eta 0:00:01\r\u001b[K     |█████████████████████████▏      | 1.1 MB 14.3 MB/s eta 0:00:01\r\u001b[K     |█████████████████████████▍      | 1.2 MB 14.3 MB/s eta 0:00:01\r\u001b[K     |█████████████████████████▋      | 1.2 MB 14.3 MB/s eta 0:00:01\r\u001b[K     |█████████████████████████▉      | 1.2 MB 14.3 MB/s eta 0:00:01\r\u001b[K     |██████████████████████████      | 1.2 MB 14.3 MB/s eta 0:00:01\r\u001b[K     |██████████████████████████▎     | 1.2 MB 14.3 MB/s eta 0:00:01\r\u001b[K     |██████████████████████████▌     | 1.2 MB 14.3 MB/s eta 0:00:01\r\u001b[K     |██████████████████████████▊     | 1.2 MB 14.3 MB/s eta 0:00:01\r\u001b[K     |███████████████████████████     | 1.2 MB 14.3 MB/s eta 0:00:01\r\u001b[K     |███████████████████████████▏    | 1.2 MB 14.3 MB/s eta 0:00:01\r\u001b[K     |███████████████████████████▍    | 1.2 MB 14.3 MB/s eta 0:00:01\r\u001b[K     |███████████████████████████▋    | 1.3 MB 14.3 MB/s eta 0:00:01\r\u001b[K     |███████████████████████████▉    | 1.3 MB 14.3 MB/s eta 0:00:01\r\u001b[K     |████████████████████████████    | 1.3 MB 14.3 MB/s eta 0:00:01\r\u001b[K     |████████████████████████████▎   | 1.3 MB 14.3 MB/s eta 0:00:01\r\u001b[K     |████████████████████████████▌   | 1.3 MB 14.3 MB/s eta 0:00:01\r\u001b[K     |████████████████████████████▉   | 1.3 MB 14.3 MB/s eta 0:00:01\r\u001b[K     |█████████████████████████████   | 1.3 MB 14.3 MB/s eta 0:00:01\r\u001b[K     |█████████████████████████████▎  | 1.3 MB 14.3 MB/s eta 0:00:01\r\u001b[K     |█████████████████████████████▌  | 1.3 MB 14.3 MB/s eta 0:00:01\r\u001b[K     |█████████████████████████████▊  | 1.4 MB 14.3 MB/s eta 0:00:01\r\u001b[K     |██████████████████████████████  | 1.4 MB 14.3 MB/s eta 0:00:01\r\u001b[K     |██████████████████████████████▏ | 1.4 MB 14.3 MB/s eta 0:00:01\r\u001b[K     |██████████████████████████████▍ | 1.4 MB 14.3 MB/s eta 0:00:01\r\u001b[K     |██████████████████████████████▋ | 1.4 MB 14.3 MB/s eta 0:00:01\r\u001b[K     |██████████████████████████████▉ | 1.4 MB 14.3 MB/s eta 0:00:01\r\u001b[K     |███████████████████████████████ | 1.4 MB 14.3 MB/s eta 0:00:01\r\u001b[K     |███████████████████████████████▎| 1.4 MB 14.3 MB/s eta 0:00:01\r\u001b[K     |███████████████████████████████▌| 1.4 MB 14.3 MB/s eta 0:00:01\r\u001b[K     |███████████████████████████████▊| 1.4 MB 14.3 MB/s eta 0:00:01\r\u001b[K     |████████████████████████████████| 1.5 MB 14.3 MB/s eta 0:00:01\r\u001b[K     |████████████████████████████████| 1.5 MB 14.3 MB/s \n",
            "\u001b[?25hInstalling collected packages: HanTa\n",
            "Successfully installed HanTa-0.2.0\n"
          ]
        }
      ]
    },
    {
      "cell_type": "code",
      "execution_count": 2,
      "metadata": {
        "colab": {
          "base_uri": "https://localhost:8080/"
        },
        "id": "vy0yCK5XUOqg",
        "outputId": "f94f19ee-d2e1-4a4a-f8ab-dd9830f26794"
      },
      "outputs": [
        {
          "output_type": "stream",
          "name": "stdout",
          "text": [
            "[nltk_data] Downloading package punkt to /root/nltk_data...\n",
            "[nltk_data]   Unzipping tokenizers/punkt.zip.\n",
            "[nltk_data] Downloading package wordnet to /root/nltk_data...\n",
            "[nltk_data]   Unzipping corpora/wordnet.zip.\n",
            "[nltk_data] Downloading package stopwords to /root/nltk_data...\n",
            "[nltk_data]   Unzipping corpora/stopwords.zip.\n"
          ]
        }
      ],
      "source": [
        "import requests\n",
        "import bs4\n",
        "import nltk\n",
        "nltk.download('punkt')\n",
        "nltk.download('wordnet')\n",
        "nltk.download('stopwords')\n",
        "\n",
        "from HanTa import HanoverTagger as ht\n",
        "hannover = ht.HanoverTagger('morphmodel_ger.pgz')\n",
        "\n",
        "import numpy as np\n",
        "from sklearn.metrics.pairwise import cosine_similarity # We will use this later to decide how similar two sentences are"
      ]
    },
    {
      "cell_type": "code",
      "source": [
        "stop = nltk.corpus.stopwords.words('german')\n",
        "# Add a few more stop words we would like to remove here\n",
        "stop.append('daher')\n",
        "stop.append('vieler')\n",
        "stop.append('vielen')\n",
        "stop.append('usw')\n",
        "stop.append('bzw')\n",
        "stop.append('etc')\n",
        "stop.append('d.h.')\n",
        "stop.append('u.a')\n",
        "stop.append('u.b')\n",
        "stop.append('--')\n",
        "stop.append('-')\n",
        "stop.append('``')\n",
        "stop.append(\"''\")\n",
        "stop"
      ],
      "metadata": {
        "colab": {
          "base_uri": "https://localhost:8080/"
        },
        "id": "Yvhqsb-kuAAT",
        "outputId": "e561ae15-8be9-4a9d-b225-d8e3b4b9cb71"
      },
      "execution_count": 3,
      "outputs": [
        {
          "output_type": "execute_result",
          "data": {
            "text/plain": [
              "['aber',\n",
              " 'alle',\n",
              " 'allem',\n",
              " 'allen',\n",
              " 'aller',\n",
              " 'alles',\n",
              " 'als',\n",
              " 'also',\n",
              " 'am',\n",
              " 'an',\n",
              " 'ander',\n",
              " 'andere',\n",
              " 'anderem',\n",
              " 'anderen',\n",
              " 'anderer',\n",
              " 'anderes',\n",
              " 'anderm',\n",
              " 'andern',\n",
              " 'anderr',\n",
              " 'anders',\n",
              " 'auch',\n",
              " 'auf',\n",
              " 'aus',\n",
              " 'bei',\n",
              " 'bin',\n",
              " 'bis',\n",
              " 'bist',\n",
              " 'da',\n",
              " 'damit',\n",
              " 'dann',\n",
              " 'der',\n",
              " 'den',\n",
              " 'des',\n",
              " 'dem',\n",
              " 'die',\n",
              " 'das',\n",
              " 'dass',\n",
              " 'daß',\n",
              " 'derselbe',\n",
              " 'derselben',\n",
              " 'denselben',\n",
              " 'desselben',\n",
              " 'demselben',\n",
              " 'dieselbe',\n",
              " 'dieselben',\n",
              " 'dasselbe',\n",
              " 'dazu',\n",
              " 'dein',\n",
              " 'deine',\n",
              " 'deinem',\n",
              " 'deinen',\n",
              " 'deiner',\n",
              " 'deines',\n",
              " 'denn',\n",
              " 'derer',\n",
              " 'dessen',\n",
              " 'dich',\n",
              " 'dir',\n",
              " 'du',\n",
              " 'dies',\n",
              " 'diese',\n",
              " 'diesem',\n",
              " 'diesen',\n",
              " 'dieser',\n",
              " 'dieses',\n",
              " 'doch',\n",
              " 'dort',\n",
              " 'durch',\n",
              " 'ein',\n",
              " 'eine',\n",
              " 'einem',\n",
              " 'einen',\n",
              " 'einer',\n",
              " 'eines',\n",
              " 'einig',\n",
              " 'einige',\n",
              " 'einigem',\n",
              " 'einigen',\n",
              " 'einiger',\n",
              " 'einiges',\n",
              " 'einmal',\n",
              " 'er',\n",
              " 'ihn',\n",
              " 'ihm',\n",
              " 'es',\n",
              " 'etwas',\n",
              " 'euer',\n",
              " 'eure',\n",
              " 'eurem',\n",
              " 'euren',\n",
              " 'eurer',\n",
              " 'eures',\n",
              " 'für',\n",
              " 'gegen',\n",
              " 'gewesen',\n",
              " 'hab',\n",
              " 'habe',\n",
              " 'haben',\n",
              " 'hat',\n",
              " 'hatte',\n",
              " 'hatten',\n",
              " 'hier',\n",
              " 'hin',\n",
              " 'hinter',\n",
              " 'ich',\n",
              " 'mich',\n",
              " 'mir',\n",
              " 'ihr',\n",
              " 'ihre',\n",
              " 'ihrem',\n",
              " 'ihren',\n",
              " 'ihrer',\n",
              " 'ihres',\n",
              " 'euch',\n",
              " 'im',\n",
              " 'in',\n",
              " 'indem',\n",
              " 'ins',\n",
              " 'ist',\n",
              " 'jede',\n",
              " 'jedem',\n",
              " 'jeden',\n",
              " 'jeder',\n",
              " 'jedes',\n",
              " 'jene',\n",
              " 'jenem',\n",
              " 'jenen',\n",
              " 'jener',\n",
              " 'jenes',\n",
              " 'jetzt',\n",
              " 'kann',\n",
              " 'kein',\n",
              " 'keine',\n",
              " 'keinem',\n",
              " 'keinen',\n",
              " 'keiner',\n",
              " 'keines',\n",
              " 'können',\n",
              " 'könnte',\n",
              " 'machen',\n",
              " 'man',\n",
              " 'manche',\n",
              " 'manchem',\n",
              " 'manchen',\n",
              " 'mancher',\n",
              " 'manches',\n",
              " 'mein',\n",
              " 'meine',\n",
              " 'meinem',\n",
              " 'meinen',\n",
              " 'meiner',\n",
              " 'meines',\n",
              " 'mit',\n",
              " 'muss',\n",
              " 'musste',\n",
              " 'nach',\n",
              " 'nicht',\n",
              " 'nichts',\n",
              " 'noch',\n",
              " 'nun',\n",
              " 'nur',\n",
              " 'ob',\n",
              " 'oder',\n",
              " 'ohne',\n",
              " 'sehr',\n",
              " 'sein',\n",
              " 'seine',\n",
              " 'seinem',\n",
              " 'seinen',\n",
              " 'seiner',\n",
              " 'seines',\n",
              " 'selbst',\n",
              " 'sich',\n",
              " 'sie',\n",
              " 'ihnen',\n",
              " 'sind',\n",
              " 'so',\n",
              " 'solche',\n",
              " 'solchem',\n",
              " 'solchen',\n",
              " 'solcher',\n",
              " 'solches',\n",
              " 'soll',\n",
              " 'sollte',\n",
              " 'sondern',\n",
              " 'sonst',\n",
              " 'über',\n",
              " 'um',\n",
              " 'und',\n",
              " 'uns',\n",
              " 'unsere',\n",
              " 'unserem',\n",
              " 'unseren',\n",
              " 'unser',\n",
              " 'unseres',\n",
              " 'unter',\n",
              " 'viel',\n",
              " 'vom',\n",
              " 'von',\n",
              " 'vor',\n",
              " 'während',\n",
              " 'war',\n",
              " 'waren',\n",
              " 'warst',\n",
              " 'was',\n",
              " 'weg',\n",
              " 'weil',\n",
              " 'weiter',\n",
              " 'welche',\n",
              " 'welchem',\n",
              " 'welchen',\n",
              " 'welcher',\n",
              " 'welches',\n",
              " 'wenn',\n",
              " 'werde',\n",
              " 'werden',\n",
              " 'wie',\n",
              " 'wieder',\n",
              " 'will',\n",
              " 'wir',\n",
              " 'wird',\n",
              " 'wirst',\n",
              " 'wo',\n",
              " 'wollen',\n",
              " 'wollte',\n",
              " 'würde',\n",
              " 'würden',\n",
              " 'zu',\n",
              " 'zum',\n",
              " 'zur',\n",
              " 'zwar',\n",
              " 'zwischen',\n",
              " 'daher',\n",
              " 'vieler',\n",
              " 'vielen',\n",
              " 'usw',\n",
              " 'bzw',\n",
              " 'etc',\n",
              " 'd.h.',\n",
              " 'u.a',\n",
              " 'u.b',\n",
              " '--',\n",
              " '-',\n",
              " '``',\n",
              " \"''\"]"
            ]
          },
          "metadata": {},
          "execution_count": 3
        }
      ]
    },
    {
      "cell_type": "markdown",
      "source": [
        "# Web Crawling"
      ],
      "metadata": {
        "id": "mYZu4r45HPUK"
      }
    },
    {
      "cell_type": "code",
      "execution_count": 4,
      "metadata": {
        "colab": {
          "base_uri": "https://localhost:8080/"
        },
        "id": "6X_Z48OluFm0",
        "outputId": "7ddae8f6-51d5-4bd4-866b-e143580cdfc7"
      },
      "outputs": [
        {
          "output_type": "execute_result",
          "data": {
            "text/plain": [
              "<Response [200]>"
            ]
          },
          "metadata": {},
          "execution_count": 4
        }
      ],
      "source": [
        "base_url = 'https://eick-at.de/moodle/course/view.php?id=15#section-6'  # URL of the Moodle Course\n",
        "r = requests.get(base_url)                                              # Http Request \n",
        "r\n"
      ]
    },
    {
      "cell_type": "code",
      "execution_count": 5,
      "metadata": {
        "id": "gqlP7zDWuFm5"
      },
      "outputs": [],
      "source": [
        "#`r.text` contains the raw HTML returned when we made our GET request earlier. \n",
        "#`'html5lib'` tells BeautifulSoup that it is reading HTML information. \n",
        "soup = bs4.BeautifulSoup(r.text,'html5lib')\n",
        "\n"
      ]
    },
    {
      "cell_type": "code",
      "execution_count": 6,
      "metadata": {
        "id": "5W7IHfpNuFm9"
      },
      "outputs": [],
      "source": [
        "headers = []                         \n",
        "for url in soup.findAll(\"h3\"):      # find sections\n",
        "    headers.append(url)"
      ]
    },
    {
      "cell_type": "code",
      "source": [
        "headers"
      ],
      "metadata": {
        "colab": {
          "base_uri": "https://localhost:8080/"
        },
        "id": "buS--jRbWhaW",
        "outputId": "ca09d130-bb7d-47c7-ad3d-ef33256f1c1d"
      },
      "execution_count": 7,
      "outputs": [
        {
          "output_type": "execute_result",
          "data": {
            "text/plain": [
              "[<h3 class=\"sectionname\" id=\"sectionid-127-title\"><span><a href=\"https://eick-at.de/moodle/course/view.php?id=15#section-0\">Allgemeine Informationen</a></span></h3>,\n",
              " <h3 class=\"sectionname\" id=\"sectionid-128-title\"><span><a href=\"https://eick-at.de/moodle/course/view.php?id=15#section-1\">Einführung</a></span></h3>,\n",
              " <h3 class=\"sectionname\" id=\"sectionid-129-title\"><span><a href=\"https://eick-at.de/moodle/course/view.php?id=15#section-2\">Datenexploration</a></span></h3>,\n",
              " <h3 class=\"sectionname\" id=\"sectionid-130-title\"><span><a href=\"https://eick-at.de/moodle/course/view.php?id=15#section-3\">Entwicklungsumgebung</a></span></h3>,\n",
              " <h3 class=\"sectionname\" id=\"sectionid-131-title\"><span><a href=\"https://eick-at.de/moodle/course/view.php?id=15#section-4\">Quellen</a></span></h3>,\n",
              " <h3 class=\"sectionname\" id=\"sectionid-132-title\"><span><a href=\"https://eick-at.de/moodle/course/view.php?id=15#section-5\">KI-Domainen</a></span></h3>,\n",
              " <h3 class=\"sectionname\" id=\"sectionid-133-title\"><span><a href=\"https://eick-at.de/moodle/course/view.php?id=15#section-6\">Machine Learning</a></span></h3>]"
            ]
          },
          "metadata": {},
          "execution_count": 7
        }
      ]
    },
    {
      "cell_type": "code",
      "source": [
        "def processText(txt):\n",
        "  tokenized = nltk.tokenize.word_tokenize(txt)\n",
        "  #print(tokenized)\n",
        "  hannovered = [hannover.analyze(word)[0] for word in tokenized]\n",
        "  #print(hannovered)\n",
        "  processed = [w.lower() for w in hannovered if w not in stop]\n",
        "  #print(processed)\n",
        "  return processed\n"
      ],
      "metadata": {
        "id": "MJWjSV4PWotf"
      },
      "execution_count": 8,
      "outputs": []
    },
    {
      "cell_type": "code",
      "execution_count": 9,
      "metadata": {
        "colab": {
          "base_uri": "https://localhost:8080/"
        },
        "id": "A9I9PI1auFnC",
        "outputId": "908992b5-5348-4467-e76b-afccb6bb2775"
      },
      "outputs": [
        {
          "output_type": "stream",
          "name": "stdout",
          "text": [
            "['https://eick-at.de/moodle/course/view.php?id=15#section-0', ['allgemein', 'information']]\n",
            "['https://eick-at.de/moodle/course/view.php?id=15#section-1', ['einführung']]\n",
            "['https://eick-at.de/moodle/mod/page/view.php?id=897', ['künstlich', 'intelligenz', 'künstlich', 'intelligenz', 'ki', 'engl', 'artificial', 'intelligence', 'ai', 'bezeichnen', 'teilgebiet', 'informatik', 'automatisierung', 'intelligent', 'verhalten', 'maschinell', 'lernen', 'befassen', 'begriff', 'verwendet', 'obwohl', 'zugrunde', 'liegend', 'definition', 'intelligenz', 'durchaus', 'umstritten', 'ki', 'durchaus', 'traditionell', 'art', 'realisert', 'lange', 'reihe', 'wenn-dann-anweisung', 'einfach', 'kontrollstrukturen', 'bzw', 'regel', 'aneinander', 'reihen', 'expertensystem', 'lassen', 'z.b', 'krankheit', 'anhand', 'symptom', 'diagnostizieren', 'ki', 'lassen', 'gewissen', 'grenze', 'klassisch', 'programmierung', 'erreichen', 'allerdings', 'algorithmen', 'je', 'anforderung', 'kompliziert', 'werden.traditionelle', 'programmierungbeim', 'maschinell', 'lernen', 'dagegen', 'lernen', 'maschine', 'regel', 'automatisch', 'sammlung', 'bekannte', 'beispiel', 'trainieren', 'maschinell', 'lernen', 'heute', 'gängig', 'methode', 'künstlich', 'intelligenz', 'erreichen', 'maschinell', 'lernendabei', 'deep', 'learning', 'besonderer', 'form', 'maschinell', 'lernen', 'künstlich', 'neuronal', 'netz', 'knn', 'programmatisch', 'nachbildung', 'vernetzen', 'gehirnzell', 'sog', 'neuronen', 'datum', 'trainieren', 'erwartet', 'ergebnis', 'abgleichen', 'dabei', 'nerven-', 'verbindung', 'neuronen', 'unterschiedlich', 'gewichtet', 'bzw', 'verstärken', 'bias', 'dabei', 'deep', 'knn', 'tief', 'viele', 'hidden', 'lay', 'aufweisen', 'gewiß', 'komplexität', 'aufweisen', 'deep', 'learning', 'teilgebiet', 'maschinell', 'lernen', 'wiederum', 'teilbereich', 'künstlich', 'intelligenz', 'darstellen', 'zusammenhang', 'künstlich', 'intelligenz', 'machine', 'learning', 'deep', 'learning']]\n",
            "['https://eick-at.de/moodle/mod/assign/view.php?id=898', ['aufgabe', 'anwendungsgebiet', 'künstlich', 'intelligenz', 'anwendungsgebiet', 'künstlich', 'intelligenz', 'kennen']]\n",
            "['https://eick-at.de/moodle/mod/page/view.php?id=899', ['lösung', 'ki-anwendungsgebiete', 'quelle', 'the', 'difference', 'between', 'artificial', 'intelligence', 'machine', 'learning', 'and', 'deep', 'learning', 'intel', 'communities', '31.12.2021', 'künstlich', 'neuronal', 'netz', 'intelligent', 'heizung', 'anwesenheitsdatum', 'bewohner', 'trainieren', 'heizung', 'verlassen', 'letzter', 'bewohner', 'automatisch', 'abschalten', 'ki', 'vorhersagen', 'wann', 'eintreffen', 'erster', 'bewohner', 'rechnen', 'heizen', 'entsprechend', 'wohnung']]\n",
            "['https://eick-at.de/moodle/mod/page/view.php?id=900', ['ki', 'spielen', 'probieren', 'folgend', 'ki-spiele', 'online', 'semantrisquick', 'draw', 'rock', 'pap', 'scissorsdiskutiere', 'notieren', 'bestmöglich', 'strategie', 'partnerarbeit']]\n",
            "['https://eick-at.de/moodle/mod/page/view.php?id=901', ['biologisch', 'künstlich', 'neuron', 'neuronen', 'nervenzell', 'nervensystem', 'bestehen', 'zusammen', 'gliazell', 'menschlich', 'gehirn', 'enthalten', 'dabei', 'ca', '90', 'milliarde', 'nervenzellen.ein', 'neuron', 'empfangen', 'signal', 'mehreren', 'gehirnzell', 'erregung', 'unterschiedlich', 'gewichtet', 'aufsummieren', 'lassen', 'bestimmt', 'schwellenpotential', 'überschreiten', 'neuron', '-prinzip', 'seinerseits', 'feuer', 'd.h.', 'neuron', 'erregen', 'zelle', 'denen', 'nervenfasern', 'fest', 'verbunden', 'ist.natürlich', 'neuronen', 'synapse', 'https', '//nl.dreamstime.com/transmissie-van-het-zenuwsignaal-tussen-twee-neuronen-met-axon-en-synaps-close-up-een-chemische-neurale-mededeling-vectordiagram-image153760677', 'bearbeiten', '20.02.2022', 'dabei', 'spielen', 'synapsen', 'wichtig', 'rolle', 'bezeichnen', 'übergangsstelle', 'denen', 'erregung', 'zelle', 'übertragen', 'überwiegend', 'signal', 'chemisch', 'neurotransmitter', 'synaptisch', 'spalt', 'übertragen', 'synapsen', 'anpassungsfähig', 'menge', 'chemisch', 'botenstoff', 'effekt', 'effektivität', 'schnittstelle', 'nutzung', 'verstärken', 'abschwächen', 'vorhanden', 'fehlend', 'training', 'menschlich', 'gehirn', 'befinden', 'schätzen', '1', 'billiarde', 'synapsen', 'nervenverbindungen.informationstechnisch', 'lassen', 'vernetzen', 'neuronen', 'stark', 'vereinfachen', 'nachbilden', 'künstlich', 'neuronob', 'künstlich', 'neuron', 'feueren', 'wesentlich', 'einzeln', 'neuron', 'neuron', 'berechnen', 'gegensatz', 'natürlich', 'neuronal', 'netz', 'laufen', 'aufsummierung', 'eingehend', 'gewichtet', 'erregung', 'neuronen', 'gleichzeitig', 'parallel', 'ab.gewichtung', 'verbindungenhttps', '//medium.com/', '@', 'najeebnik21/activation-function-in-deep-learning-587e83d5a681', '17.02.2022', 'genauso', 'künstlich', 'neuronal', 'netz', 'schrittweise', 'trainieren', 'bedeuten', 'lernprozess', 'gewichtung', 'eingehend', 'signal', 'neuron', 'neuron', 'zeitlich', 'nacheinander', 'neu', 'berechnen', 'müssen', 'echt', 'parallelverarbeitung', 'viele', 'rechenkerne', 'beschleunigen', 'sowohl', 'verarbeitungs-', 'trainingsprozess', 'stark', 'graphic', 'processing', 'unit', 'gpu', 'stark', 'vorteil', 'verfügen', 'hundert', 'tausend', 'cor', 'wegen', 'graphisch', 'berechnung', 'durchsatz', 'hoch', 'verarbeitungsgeschwindigkeit', 'einzeln', 'befehl', 'central', 'processing', 'unit', 'cpus', 'optimiert.jetson', 'nano', 'nvidia', '128-kern', 'gpuder', 'jetson', 'nano', 'resourcensparender', 'einplatinen-rechner', '128-kern', 'gpu', 'ki-projekte', 'cpu-leistung', 'etwa', 'rasperry', 'pi', 'vergleichbar.https', '//developer.nvidia.com/embedded/dlc/jetson-nano-system-module-datasheettensor', 'processing', 'unit', 'tpus', 'dagegen', 'anwendungsspezifisch', 'chip', 'asics', 'speziell', 'anforderung', 'maschinell', 'lernen', 'entwerfen', 'parallelverarbeitung', 'viele', 'compute', 'unit', 'unterstützen', 'notwendig', 'algorithmen', 'z.b', 'matrizenrechnung', 'optimieren', 'fließkomma-berechnung', 'realisieren', 'ganz', 'besonders', 'leistungsfähig.die', 'googeln', 'entwickeln', 'tpus', 'speziell', 'softwaresammlung', 'tensorflow', 'unternehmen', 'entwerfen', 'tpus', 'basis', 'googeln', 'services', 'maschinell', 'lernen', 'einsetzen']]\n",
            "['https://eick-at.de/moodle/course/view.php?id=15#section-2', ['datenexploration']]\n",
            "['https://eick-at.de/moodle/mod/page/view.php?id=902', ['data-mining', 'begriff', 'data-mining', 'eigentlich', 'missverständlich', 'gehen', 'förderung', 'neu', 'datum', 'to', 'mine', '=', 'graben', 'abbau', 'fördern', 'untersuchung', 'bereits', 'vorhanden', 'groß', 'datenmengen', 'bestimmen', 'zusammenhang', 'trend', 'regelmäßigkeit', 'gesetzmäßigkeit', 'abweichung', 'usw', 'hierfür', 'oft', 'experimentell', 'statistisch', 'methode', 'graphisch', 'aufbereitung', 'eingesetzt.gelegentlich', 'verstehen', 'darunter', 'zusätzlich', 'erfassung', 'z.b', 'mittels', 'web', 'scraping', 'speicherung', 'aufarbeitung', 'datum', 'wissenschaftlich', 'sinn', 'eigentlich', 'vorbereitend', 'prozessschritte', 'sogenannter', 'knowledge', 'discovery', 'databases', 'prozeß', 'data-mining', 'schritt', 'darstellen', 'data', 'mining', 'kdd-prozessdata-mining', 'vielleicht', 'deutsch', 'ehesten', 'datenmustererkennung', '-entdeckung', 'bezeichnen.data-mining', 'entwicklung', 'ki', 'wichtig', 'gehen', 'wesentlich', 'darum', 'herausfinden', 'feature', 'datenmerkmalen', 'künstlich', 'neuronal', 'netz', 'trainieren', 'müssen', 'ende', 'gültig', 'vorhersagen', 'erhalten']]\n",
            "['https://eick-at.de/moodle/mod/assign/view.php?id=903', ['aufgabe', 'data-mining', 'like-button', 'facebook', 'hören', 'vortrag', 'david', 'kriesels', 'spiegel-mining', 'analysieren', 'diskutieren', 'beschreiben', 'data-mining', 'möglichkeit', 'gefahr', 'hinblick', 'facebook', 'like-button']]\n",
            "['https://eick-at.de/moodle/mod/page/view.php?id=904', ['lösungsvorschlag', 'data-mining', 'like-button', 'facebook', 'david', 'kriesel', 'umreißen', 'vortrag', 'scenario', 'facebook', 'anhand', 'likes', 'benutzer', 'einstellung', 'vorliebe', 'schließen', 'anhand', 'gespeichert', 'personell', 'datum', 'alter', 'geschlecht', 'allein', 'sicher', 'rückschluß', 'darauf', 'vornehmen', 'aufruf', 'jeweilig', 'facebook-seit', 'unbedingt', 'bild', 'komplett', 'aussagen', 'inhalt', 'fällen', 'allerdings', 'lassen', 'natürlich', 'zusätzlich', 'verweildauer', 'nächster', 'aufruf', 'facebook-seit', 'messen', 'bzw', 'absolut', 'anzahl', 'einzeln', 'facebook-seitenaufrufe', 'speichern', 'umstand', 'bereits', 'weitere', 'nützlich', 'feature', '.der', 'like', 'binäres', 'feature', 'unklar', 'bleiben', 'negativ', 'wert', 'egal', 'interessieren', 'bedeuten', 'positiv', 'wert', 'nutzer', 'aktiv', 'zustimmung', 'inhalt', 'erklären', 'zahl', 'likes', 'weiteres', 'feature', 'auswerten', 'lassen', 'demnach', 'gewissen', 'mindestanzahl', 'likes', 'wahrscheinlich', 'gut', 'prognose', 'abgeben', 'heißen', 'z.b', 'politisch', 'einstellung', 'art', 'bevorzugen', 'ansprache', 'duzen', 'siezen', 'gut', 'vorhersage', 'personalisiert', 'wahlwerbung', 'möglich', 'gehen', 'demokratie', 'natürlich', 'weit', 'manipulation', 'kaufverhalten', 'hinaus', 'müssen', 'entsprechend', 'kritisch', 'beobachtet']]\n",
            "['https://eick-at.de/moodle/mod/page/view.php?id=905', ['datenvisualisierung', 'ki-modell', 'trainieren', 'müssen', 'feststellen', 'datum', 'überhaupt', 'einflussen', 'vorherzusagend', 'größe', 'hängen', 'auswahl', 'modell', 'art', 'datum', 'ab.den', 'zusammenhang', 'merkmal', 'müssen', 'eigentlich', 'immer', 'graphisch', 'untersuchen', 'untersuchung', 'datenreihen', 'tabelle', 'angesichts', 'datumenmenge', 'möglich']]\n",
            "['https://eick-at.de/moodle/course/view.php?id=15#section-3', ['entwicklungsumgebung']]\n",
            "['https://eick-at.de/moodle/mod/page/view.php?id=906', ['programmiersprache', 'ki-programmierung', 'fallen', 'kurs', 'wahl', 'python', 'stehen', 'ganz', 'reihe', 'programmiersprache', 'ki-entwicklung', 'verfügung', 'bedeutend', 'stark', 'ki-bibliotheken', 'aufführen', 'python', 'einfach', 'lernend', 'verbreitet', 'programmiersprache', 'entwickeln', 'codebasis', 'insbesondere', 'geben', 'leistungsfähig', 'werkzeuge', 'datumenanalyse', 'vielleicht', 'wichtig', 'schlüssel', 'ki-entwicklung', 'groß', 'datumensatz', 'klassifizieren', 'analysieren', 'aufbereiten', 'werden.mit', 'tensorflow', 'stehen', 'leistungsfähig', 'googeln', 'entwickeln', 'open-source-bibliothek', 'maschinell', 'lernen', 'verfügung', 'helfen', 'schnell', 'relativ', 'einfach', 'modell', 'maschinell', 'lernen', 'erstellen', 'trainieren', 'evaluieren', 'schlussendlich', 'betrieb', 'nehmen', 'python', 'ki-bibliothek', 'tensorflowjava', 'leistungsfähig', 'alternative', 'dar', 'mehreren', 'plattform', 'einsetzen', 'geben', 'beispiesweise', 'open', 'source-bibliothek', 'deeplearning4j', 'dl4j', 'kommen', 'groß', 'anzahl', 'implementierungsbeispielen', 'ki-entwicklung', 'daneben', 'bieten', 'java', 'einfach', 'debugging', 'benutzer-', 'wartungsfreundlichkeit', 'graphisch', 'benutzeroberfläche', 'usw.c++', 'leicht', 'erlernen', 'dafür', 'ressourcensparend', 'schnell', 'ausführung', 'bieten', 'c++', 'besonders', 'gut', 'machine', 'learning', 'leistungsschwach', 'system', 'mikrocontrollern', 'eingebettet', 'system', 'dafür', 'stehen', 'z.b', 'opencv', 'ki-programmbibliothek', 'verfügung', 'programmiersprache', 'u.a', 'python', 'unterstützen', 'neben', 'ml', 'computer', 'vision', 'objekteidentifizierung', 'bilderkennung', 'stark', 'opencv.javascript', 'vielleicht', 'beliebt', 'programmiersprache', 'welt', 'internetbrowser', 'ausführen', 'internetseite', 'interaktiv', 'modern', 'web', 'erst', 'möglich', 'javascript', 'verfügen', 'mehrere', 'high-level-tools', '-bibliotheken', 'maschinell', 'lernen', 'gut', 'beispiel', 'googles', 'tensorflow.js', 'webentwicklern', 'viele', 'neu', 'möglichkeit', 'eröffnet', 'neu', 'programmiersprache', 'julia', 'erst', '2009', 'entwickeln', '2018', 'offiziell', 'einführen', 'erfreuen', 'rasch', 'wachsend', 'beliebtheit', 'sprache', 'sollen', 'leistungsfähigkeit', 'einfach', 'programmierung', 'vereinigen', 'parallelverarbeitung', 'auslegen', 'besonders', 'gut', 'wissenschaftlich', 'berechnung', 'datenanalysen', 'geeignet', 'ki-', 'ml-programmpaket', 'julia', 'heißen', 'flux', 'bieten', 'flux', 'option', 'ki-programmbibliotheken', 'gesamt', 'system', 'schnell', 'wachsen', 'sollen', 'entwicklung', 'fall', 'beobachtet', 'werden.lisp', 'fortran', 'bereits', '1958', 'spezifizieren', 'zweitälteste', 'hoch', 'programmiersprache', 'entwicklung', 'eng', 'früh', 'fortschritt', 'ki', 'verbunden', 'lisp', 'ki-projekten', 'weit', 'verbreitet', 'lisp', 'gelten', 'gut', 'prototyping-tool', 'problem', 'deren', 'lösungweg', 'unklar', 'sprache', 'hervorragend', 'umgang', 'liste', 'symbolisch', 'information', 'geeignet', 'letzteres', 'bedeuten', 'lisp', 'besonders', 'gut', 'entwicklung', 'regelbasierter', 'ki-systeme', 'geeignet', 'mathematisch', 'formel', 'wenn-dann-beziehung', 'usw', 'wissen', 'symbolisch', 'repräsentieren', 'grund', 'warum', 'lisp', 'häufig', 'verwendet', 'programmiersprache', 'ki', 'liegen', 'teil', 'daran', 'gut', 'entwickeln', 'modern', 'machine', 'learning-bibliotheken', 'ml', '=', 'nicht-', 'subsymbolisch', 'ansatz', 'geben', 'syntax', 'zudem', 'stark', 'programmiersprache', 'unterscheiden', 'quelle', 'https', '//bootcamp.berkeley.edu/blog/ai-programming-languages/', '07.02.2022']]\n",
            "['https://eick-at.de/moodle/mod/page/view.php?id=907', ['anaconda', 'anaconda', 'distribution', 'quelloffene', 'python-entwicklungswerkzeuge', 'ki-entwicklung', 'sollen', 'software-paketmanagement', '-verteilung', 'vereinfachen.die', 'individual', 'edition', 'nicht-kommerziell', 'gebrauch', 'kostenlos', 'enthalten', 'u.a', 'folgend', 'programmpaket']]\n",
            "['https://eick-at.de/moodle/mod/page/view.php?id=908', ['jupyter', 'notebook', 'öffnen', 'notebooks', 'cli', 'windowsto', 'doquelle', 'https', '//realpython.com/jupyter-notebook-introduction/', '07.02.2022', 'beim', 'jupyter-notebook', 'client-server-anwendung', 'handeln', 'liegen', 'natürlich', 'nahe', 'jupyter-notebooks', 'internet', 'verfügbar', 'geben', 'vielzahl', 'jupyter-notebook-anbietern', 'wichtig']]\n",
            "['https://eick-at.de/moodle/course/view.php?id=15#section-4', ['quelle']]\n",
            "['https://eick-at.de/moodle/course/view.php?id=15#section-5', ['ki-domainen']]\n",
            "['https://eick-at.de/moodle/mod/page/view.php?id=911', ['computer', 'vision', 'klassifikationproblem', 'hund', 'schnee', 'huskys']]\n",
            "['https://eick-at.de/moodle/mod/page/view.php?id=912', ['natural', 'language', 'processing', 'nlp', 'abkürzung', 'natural', 'language', 'processing', 'beschreiben', 'technik', 'methode', 'spracherkennung', 'verarbeitung', 'natürlich', 'sprache', 'verarbeitung', 'finden', 'hierbei', 'maschinell', 'statt', 'ziel', 'direkt', 'natürlich', 'kommunikation', 'mensch', 'maschine', 'ermöglichen', '–', 'schriftlich', 'mündlich', 'form']]\n",
            "['https://eick-at.de/moodle/course/view.php?id=15#section-6', ['machine', 'learning']]\n",
            "['https://eick-at.de/moodle/mod/page/view.php?id=913', ['teachable', 'machine', 'to', 'do']]\n"
          ]
        }
      ],
      "source": [
        "data = []                                      \n",
        "for header in headers:                          # iterate sections\n",
        "  # print(header)\n",
        "  link = header.find('a').attrs['href']         # extract link of section\n",
        "  txt = header.get_text()                       # extract text of section\n",
        "  processed = processText(txt)                  # nlp of section text\n",
        "  entry = [link, processed]                     # list entry with link and processed text\n",
        "  print(entry)\n",
        "  data.append(entry)                            # append entry in list data (nested lists)\n",
        "\n",
        "  listTags = header.find_next_sibling('ul')     # pages, tasks, links ..\n",
        "  for li in listTags:\n",
        "    #print(li)\n",
        "    link = li.find('a')\n",
        "    txt2 = link.get_text().replace(\"Page\",\"\").replace(\"URL\",\"\").replace(\"Assignment\",\"\")\n",
        "    if not(\"URL\" in link.get_text()):\n",
        "      link = link.attrs['href'] \n",
        "      \n",
        "      r = requests.get(link)                    # Seiten aufrufen\n",
        "      soup2 = bs4.BeautifulSoup(r.text,'html5lib')\n",
        "      header2 = soup2.find('h2')                # Überschrift\n",
        "      #print(header2)\n",
        "      paragraphs = header2.find_all_next('p')   # Absätze\n",
        "      txt = \"\"\n",
        "      for paragraph in paragraphs:\n",
        "        txt += paragraph.get_text()\n",
        "      txt2 += txt\n",
        "      #print(link,txt2)\n",
        "      processed =processText(txt2)\n",
        "      entry = [link, processed]\n",
        "      print(entry)\n",
        "      data.append(entry)\n",
        "\n"
      ]
    },
    {
      "cell_type": "markdown",
      "source": [
        ""
      ],
      "metadata": {
        "id": "AnEogOIxVcnN"
      }
    },
    {
      "cell_type": "code",
      "source": [
        "import matplotlib.pyplot as plt\n",
        "def plot_hist(data):\n",
        "    entry_lengths = [len(entry[1]) for entry in data]\n",
        "    fig = plt.figure(figsize=(6, 6)) \n",
        "    plt.xlabel('Eintraglänge')\n",
        "    plt.ylabel('Anzahl der Einträge')\n",
        "    plt.hist(entry_lengths, bins=20)\n",
        "    plt.show()\n",
        "    return entry_lengths\n",
        "entry_lengths = plot_hist(data)"
      ],
      "metadata": {
        "colab": {
          "base_uri": "https://localhost:8080/",
          "height": 388
        },
        "id": "bS3JjzO67I5R",
        "outputId": "18658a05-4aab-4685-ff2e-741ecf7c08f8"
      },
      "execution_count": 10,
      "outputs": [
        {
          "output_type": "display_data",
          "data": {
            "text/plain": [
              "<Figure size 432x432 with 1 Axes>"
            ],
            "image/png": "[encoded data removed]"
          },
          "metadata": {
            "needs_background": "light"
          }
        }
      ]
    },
    {
      "cell_type": "markdown",
      "source": [
        "Bag of words"
      ],
      "metadata": {
        "id": "q87hHeZyDRMv"
      }
    },
    {
      "cell_type": "code",
      "source": [
        "# calculate frequency of words\n",
        "def map_book(hash_map, tokens):\n",
        "    if tokens is not None:\n",
        "        for word in tokens:\n",
        "            # Word Exist?\n",
        "            if word in hash_map:\n",
        "                hash_map[word] = hash_map[word] + 1\n",
        "            else:\n",
        "                hash_map[word] = 1\n",
        "\n",
        "        return hash_map\n",
        "    else:\n",
        "        return None\n",
        "        \n",
        "def make_hash_map(data):  \n",
        "    hash_map = {}\n",
        "    for entry in data:\n",
        "        hash_map = map_book(hash_map, entry[1])\n",
        "    return hash_map\n",
        "\n",
        "\n",
        "# define a function frequent_vocab with the following input: word_freq and max_features\n",
        "def frequent_vocab(word_freq, max_features): \n",
        "    counter = 0  #initialize counter with the value zero\n",
        "    vocab = []   # create an empty list called vocab\n",
        "    # list words in the dictionary in descending order of frequency\n",
        "    for key, value in sorted(word_freq.items(), key=lambda item: (item[1], item[0]), reverse=True): \n",
        "       #loop function to get the top (max_features) number of words\n",
        "        if counter<max_features: \n",
        "            vocab.append(key)\n",
        "            counter+=1\n",
        "        else: break\n",
        "    return vocab"
      ],
      "metadata": {
        "id": "UQlsfmIe7M7x"
      },
      "execution_count": 11,
      "outputs": []
    },
    {
      "cell_type": "code",
      "source": [
        "hash_map = make_hash_map(data) #create hash map (words and frequency) from tokenized dataset\n",
        "\n",
        "vocab=frequent_vocab(hash_map, 1000)  # adjust second Parameter\n",
        "print(hash_map)\n",
        "print(vocab)"
      ],
      "metadata": {
        "colab": {
          "base_uri": "https://localhost:8080/"
        },
        "id": "EorQNc7vQZXY",
        "outputId": "53f51b36-ceb8-4869-cda8-222f13d291ad"
      },
      "execution_count": 12,
      "outputs": [
        {
          "output_type": "stream",
          "name": "stdout",
          "text": [
            "{'allgemein': 1, 'information': 2, 'einführung': 1, 'künstlich': 14, 'intelligenz': 8, 'ki': 8, 'engl': 1, 'artificial': 2, 'intelligence': 2, 'ai': 1, 'bezeichnen': 2, 'teilgebiet': 2, 'informatik': 1, 'automatisierung': 1, 'intelligent': 2, 'verhalten': 1, 'maschinell': 12, 'lernen': 11, 'befassen': 1, 'begriff': 2, 'verwendet': 2, 'obwohl': 1, 'zugrunde': 1, 'liegend': 1, 'definition': 1, 'durchaus': 2, 'umstritten': 1, 'traditionell': 1, 'art': 3, 'realisert': 1, 'lange': 1, 'reihe': 2, 'wenn-dann-anweisung': 1, 'einfach': 5, 'kontrollstrukturen': 1, 'bzw': 3, 'regel': 2, 'aneinander': 1, 'reihen': 1, 'expertensystem': 1, 'lassen': 6, 'z.b': 5, 'krankheit': 1, 'anhand': 3, 'symptom': 1, 'diagnostizieren': 1, 'gewissen': 2, 'grenze': 1, 'klassisch': 1, 'programmierung': 2, 'erreichen': 2, 'allerdings': 2, 'algorithmen': 2, 'je': 1, 'anforderung': 2, 'kompliziert': 1, 'werden.traditionelle': 1, 'programmierungbeim': 1, 'dagegen': 2, 'maschine': 2, 'automatisch': 2, 'sammlung': 1, 'bekannte': 1, 'beispiel': 2, 'trainieren': 7, 'heute': 1, 'gängig': 1, 'methode': 3, 'lernendabei': 1, 'deep': 5, 'learning': 8, 'besonderer': 1, 'form': 2, 'neuronal': 5, 'netz': 5, 'knn': 2, 'programmatisch': 1, 'nachbildung': 1, 'vernetzen': 2, 'gehirnzell': 2, 'sog': 1, 'neuronen': 6, 'datum': 6, 'erwartet': 1, 'ergebnis': 1, 'abgleichen': 1, 'dabei': 4, 'nerven-': 1, 'verbindung': 1, 'unterschiedlich': 2, 'gewichtet': 3, 'verstärken': 2, 'bias': 1, 'tief': 1, 'viele': 4, 'hidden': 1, 'lay': 1, 'aufweisen': 2, 'gewiß': 1, 'komplexität': 1, 'wiederum': 1, 'teilbereich': 1, 'darstellen': 2, 'zusammenhang': 3, 'machine': 6, 'aufgabe': 2, 'anwendungsgebiet': 2, 'kennen': 1, 'lösung': 1, 'ki-anwendungsgebiete': 1, 'quelle': 3, 'the': 1, 'difference': 1, 'between': 1, 'and': 1, 'intel': 1, 'communities': 1, '31.12.2021': 1, 'heizung': 2, 'anwesenheitsdatum': 1, 'bewohner': 3, 'verlassen': 1, 'letzter': 1, 'abschalten': 1, 'vorhersagen': 2, 'wann': 1, 'eintreffen': 1, 'erster': 1, 'rechnen': 1, 'heizen': 1, 'entsprechend': 2, 'wohnung': 1, 'spielen': 2, 'probieren': 1, 'folgend': 2, 'ki-spiele': 1, 'online': 1, 'semantrisquick': 1, 'draw': 1, 'rock': 1, 'pap': 1, 'scissorsdiskutiere': 1, 'notieren': 1, 'bestmöglich': 1, 'strategie': 1, 'partnerarbeit': 1, 'biologisch': 1, 'neuron': 9, 'nervenzell': 1, 'nervensystem': 1, 'bestehen': 1, 'zusammen': 1, 'gliazell': 1, 'menschlich': 2, 'gehirn': 2, 'enthalten': 2, 'ca': 1, '90': 1, 'milliarde': 1, 'nervenzellen.ein': 1, 'empfangen': 1, 'signal': 3, 'mehreren': 2, 'erregung': 3, 'aufsummieren': 1, 'bestimmt': 1, 'schwellenpotential': 1, 'überschreiten': 1, '-prinzip': 1, 'seinerseits': 1, 'feuer': 1, 'd.h.': 1, 'erregen': 1, 'zelle': 2, 'denen': 2, 'nervenfasern': 1, 'fest': 1, 'verbunden': 2, 'ist.natürlich': 1, 'synapse': 1, 'https': 3, '//nl.dreamstime.com/transmissie-van-het-zenuwsignaal-tussen-twee-neuronen-met-axon-en-synaps-close-up-een-chemische-neurale-mededeling-vectordiagram-image153760677': 1, 'bearbeiten': 1, '20.02.2022': 1, 'synapsen': 3, 'wichtig': 4, 'rolle': 1, 'übergangsstelle': 1, 'übertragen': 2, 'überwiegend': 1, 'chemisch': 2, 'neurotransmitter': 1, 'synaptisch': 1, 'spalt': 1, 'anpassungsfähig': 1, 'menge': 1, 'botenstoff': 1, 'effekt': 1, 'effektivität': 1, 'schnittstelle': 1, 'nutzung': 1, 'abschwächen': 1, 'vorhanden': 2, 'fehlend': 1, 'training': 1, 'befinden': 1, 'schätzen': 1, '1': 1, 'billiarde': 1, 'nervenverbindungen.informationstechnisch': 1, 'stark': 6, 'vereinfachen': 1, 'nachbilden': 1, 'neuronob': 1, 'feueren': 1, 'wesentlich': 2, 'einzeln': 3, 'berechnen': 2, 'gegensatz': 1, 'natürlich': 6, 'laufen': 1, 'aufsummierung': 1, 'eingehend': 2, 'gleichzeitig': 1, 'parallel': 1, 'ab.gewichtung': 1, 'verbindungenhttps': 1, '//medium.com/': 1, '@': 1, 'najeebnik21/activation-function-in-deep-learning-587e83d5a681': 1, '17.02.2022': 1, 'genauso': 1, 'schrittweise': 1, 'bedeuten': 3, 'lernprozess': 1, 'gewichtung': 1, 'zeitlich': 1, 'nacheinander': 1, 'neu': 4, 'müssen': 5, 'echt': 1, 'parallelverarbeitung': 3, 'rechenkerne': 1, 'beschleunigen': 1, 'sowohl': 1, 'verarbeitungs-': 1, 'trainingsprozess': 1, 'graphic': 1, 'processing': 5, 'unit': 4, 'gpu': 2, 'vorteil': 1, 'verfügen': 2, 'hundert': 1, 'tausend': 1, 'cor': 1, 'wegen': 1, 'graphisch': 4, 'berechnung': 2, 'durchsatz': 1, 'hoch': 2, 'verarbeitungsgeschwindigkeit': 1, 'befehl': 1, 'central': 1, 'cpus': 1, 'optimiert.jetson': 1, 'nano': 2, 'nvidia': 1, '128-kern': 2, 'gpuder': 1, 'jetson': 1, 'resourcensparender': 1, 'einplatinen-rechner': 1, 'ki-projekte': 1, 'cpu-leistung': 1, 'etwa': 1, 'rasperry': 1, 'pi': 1, 'vergleichbar.https': 1, '//developer.nvidia.com/embedded/dlc/jetson-nano-system-module-datasheettensor': 1, 'tpus': 3, 'anwendungsspezifisch': 1, 'chip': 1, 'asics': 1, 'speziell': 2, 'entwerfen': 2, 'compute': 1, 'unterstützen': 2, 'notwendig': 1, 'matrizenrechnung': 1, 'optimieren': 1, 'fließkomma-berechnung': 1, 'realisieren': 1, 'ganz': 2, 'besonders': 4, 'leistungsfähig.die': 1, 'googeln': 3, 'entwickeln': 5, 'softwaresammlung': 1, 'tensorflow': 2, 'unternehmen': 1, 'basis': 1, 'services': 1, 'einsetzen': 2, 'datenexploration': 1, 'data-mining': 6, 'eigentlich': 3, 'missverständlich': 1, 'gehen': 3, 'förderung': 1, 'to': 2, 'mine': 1, '=': 2, 'graben': 1, 'abbau': 1, 'fördern': 1, 'untersuchung': 2, 'bereits': 3, 'groß': 3, 'datenmengen': 1, 'bestimmen': 1, 'trend': 1, 'regelmäßigkeit': 1, 'gesetzmäßigkeit': 1, 'abweichung': 1, 'usw': 2, 'hierfür': 1, 'oft': 1, 'experimentell': 1, 'statistisch': 1, 'aufbereitung': 1, 'eingesetzt.gelegentlich': 1, 'verstehen': 1, 'darunter': 1, 'zusätzlich': 2, 'erfassung': 1, 'mittels': 1, 'web': 2, 'scraping': 1, 'speicherung': 1, 'aufarbeitung': 1, 'wissenschaftlich': 2, 'sinn': 1, 'vorbereitend': 1, 'prozessschritte': 1, 'sogenannter': 1, 'knowledge': 1, 'discovery': 1, 'databases': 1, 'prozeß': 1, 'schritt': 1, 'data': 1, 'mining': 1, 'kdd-prozessdata-mining': 1, 'vielleicht': 3, 'deutsch': 1, 'ehesten': 1, 'datenmustererkennung': 1, '-entdeckung': 1, 'bezeichnen.data-mining': 1, 'entwicklung': 4, 'darum': 1, 'herausfinden': 1, 'feature': 4, 'datenmerkmalen': 1, 'ende': 1, 'gültig': 1, 'erhalten': 1, 'like-button': 3, 'facebook': 4, 'hören': 1, 'vortrag': 2, 'david': 2, 'kriesels': 1, 'spiegel-mining': 1, 'analysieren': 2, 'diskutieren': 1, 'beschreiben': 2, 'möglichkeit': 2, 'gefahr': 1, 'hinblick': 1, 'lösungsvorschlag': 1, 'kriesel': 1, 'umreißen': 1, 'scenario': 1, 'likes': 3, 'benutzer': 1, 'einstellung': 2, 'vorliebe': 1, 'schließen': 1, 'gespeichert': 1, 'personell': 1, 'alter': 1, 'geschlecht': 1, 'allein': 1, 'sicher': 1, 'rückschluß': 1, 'darauf': 1, 'vornehmen': 1, 'aufruf': 2, 'jeweilig': 1, 'facebook-seit': 2, 'unbedingt': 1, 'bild': 1, 'komplett': 1, 'aussagen': 1, 'inhalt': 2, 'fällen': 1, 'verweildauer': 1, 'nächster': 1, 'messen': 1, 'absolut': 1, 'anzahl': 2, 'facebook-seitenaufrufe': 1, 'speichern': 1, 'umstand': 1, 'weitere': 1, 'nützlich': 1, '.der': 1, 'like': 1, 'binäres': 1, 'unklar': 2, 'bleiben': 1, 'negativ': 1, 'wert': 2, 'egal': 1, 'interessieren': 1, 'positiv': 1, 'nutzer': 1, 'aktiv': 1, 'zustimmung': 1, 'erklären': 1, 'zahl': 1, 'weiteres': 1, 'auswerten': 1, 'demnach': 1, 'mindestanzahl': 1, 'wahrscheinlich': 1, 'gut': 8, 'prognose': 1, 'abgeben': 1, 'heißen': 2, 'politisch': 1, 'bevorzugen': 1, 'ansprache': 1, 'duzen': 1, 'siezen': 1, 'vorhersage': 1, 'personalisiert': 1, 'wahlwerbung': 1, 'möglich': 3, 'demokratie': 1, 'weit': 2, 'manipulation': 1, 'kaufverhalten': 1, 'hinaus': 1, 'kritisch': 1, 'beobachtet': 2, 'datenvisualisierung': 1, 'ki-modell': 1, 'feststellen': 1, 'überhaupt': 1, 'einflussen': 1, 'vorherzusagend': 1, 'größe': 1, 'hängen': 1, 'auswahl': 1, 'modell': 2, 'ab.den': 1, 'merkmal': 1, 'immer': 1, 'untersuchen': 1, 'datenreihen': 1, 'tabelle': 1, 'angesichts': 1, 'datumenmenge': 1, 'entwicklungsumgebung': 1, 'programmiersprache': 9, 'ki-programmierung': 1, 'fallen': 1, 'kurs': 1, 'wahl': 1, 'python': 4, 'stehen': 3, 'ki-entwicklung': 4, 'verfügung': 3, 'bedeutend': 1, 'ki-bibliotheken': 1, 'aufführen': 1, 'lernend': 1, 'verbreitet': 2, 'codebasis': 1, 'insbesondere': 1, 'geben': 4, 'leistungsfähig': 3, 'werkzeuge': 1, 'datumenanalyse': 1, 'schlüssel': 1, 'datumensatz': 1, 'klassifizieren': 1, 'aufbereiten': 1, 'werden.mit': 1, 'open-source-bibliothek': 1, 'helfen': 1, 'schnell': 3, 'relativ': 1, 'erstellen': 1, 'evaluieren': 1, 'schlussendlich': 1, 'betrieb': 1, 'nehmen': 1, 'ki-bibliothek': 1, 'tensorflowjava': 1, 'alternative': 1, 'dar': 1, 'plattform': 1, 'beispiesweise': 1, 'open': 1, 'source-bibliothek': 1, 'deeplearning4j': 1, 'dl4j': 1, 'kommen': 1, 'implementierungsbeispielen': 1, 'daneben': 1, 'bieten': 3, 'java': 1, 'debugging': 1, 'benutzer-': 1, 'wartungsfreundlichkeit': 1, 'benutzeroberfläche': 1, 'usw.c++': 1, 'leicht': 1, 'erlernen': 1, 'dafür': 2, 'ressourcensparend': 1, 'ausführung': 1, 'c++': 1, 'leistungsschwach': 1, 'system': 3, 'mikrocontrollern': 1, 'eingebettet': 1, 'opencv': 1, 'ki-programmbibliothek': 1, 'u.a': 2, 'neben': 1, 'ml': 2, 'computer': 2, 'vision': 2, 'objekteidentifizierung': 1, 'bilderkennung': 1, 'opencv.javascript': 1, 'beliebt': 1, 'welt': 1, 'internetbrowser': 1, 'ausführen': 1, 'internetseite': 1, 'interaktiv': 1, 'modern': 2, 'erst': 2, 'javascript': 1, 'mehrere': 1, 'high-level-tools': 1, '-bibliotheken': 1, 'googles': 1, 'tensorflow.js': 1, 'webentwicklern': 1, 'eröffnet': 1, 'julia': 2, '2009': 1, '2018': 1, 'offiziell': 1, 'einführen': 1, 'erfreuen': 1, 'rasch': 1, 'wachsend': 1, 'beliebtheit': 1, 'sprache': 3, 'sollen': 3, 'leistungsfähigkeit': 1, 'vereinigen': 1, 'auslegen': 1, 'datenanalysen': 1, 'geeignet': 3, 'ki-': 1, 'ml-programmpaket': 1, 'flux': 2, 'option': 1, 'ki-programmbibliotheken': 1, 'gesamt': 1, 'wachsen': 1, 'fall': 1, 'werden.lisp': 1, 'fortran': 1, '1958': 1, 'spezifizieren': 1, 'zweitälteste': 1, 'eng': 1, 'früh': 1, 'fortschritt': 1, 'lisp': 4, 'ki-projekten': 1, 'gelten': 1, 'prototyping-tool': 1, 'problem': 1, 'deren': 1, 'lösungweg': 1, 'hervorragend': 1, 'umgang': 1, 'liste': 1, 'symbolisch': 2, 'letzteres': 1, 'regelbasierter': 1, 'ki-systeme': 1, 'mathematisch': 1, 'formel': 1, 'wenn-dann-beziehung': 1, 'wissen': 1, 'repräsentieren': 1, 'grund': 1, 'warum': 1, 'häufig': 1, 'liegen': 2, 'teil': 1, 'daran': 1, 'learning-bibliotheken': 1, 'nicht-': 1, 'subsymbolisch': 1, 'ansatz': 1, 'syntax': 1, 'zudem': 1, 'unterscheiden': 1, '//bootcamp.berkeley.edu/blog/ai-programming-languages/': 1, '07.02.2022': 2, 'anaconda': 2, 'distribution': 1, 'quelloffene': 1, 'python-entwicklungswerkzeuge': 1, 'software-paketmanagement': 1, '-verteilung': 1, 'vereinfachen.die': 1, 'individual': 1, 'edition': 1, 'nicht-kommerziell': 1, 'gebrauch': 1, 'kostenlos': 1, 'programmpaket': 1, 'jupyter': 1, 'notebook': 1, 'öffnen': 1, 'notebooks': 1, 'cli': 1, 'windowsto': 1, 'doquelle': 1, '//realpython.com/jupyter-notebook-introduction/': 1, 'beim': 1, 'jupyter-notebook': 1, 'client-server-anwendung': 1, 'handeln': 1, 'nahe': 1, 'jupyter-notebooks': 1, 'internet': 1, 'verfügbar': 1, 'vielzahl': 1, 'jupyter-notebook-anbietern': 1, 'ki-domainen': 1, 'klassifikationproblem': 1, 'hund': 1, 'schnee': 1, 'huskys': 1, 'natural': 2, 'language': 2, 'nlp': 1, 'abkürzung': 1, 'technik': 1, 'spracherkennung': 1, 'verarbeitung': 2, 'finden': 1, 'hierbei': 1, 'statt': 1, 'ziel': 1, 'direkt': 1, 'kommunikation': 1, 'mensch': 1, 'ermöglichen': 1, '–': 1, 'schriftlich': 1, 'mündlich': 1, 'teachable': 1, 'do': 1}\n",
            "['künstlich', 'maschinell', 'lernen', 'programmiersprache', 'neuron', 'learning', 'ki', 'intelligenz', 'gut', 'trainieren', 'stark', 'neuronen', 'natürlich', 'machine', 'lassen', 'datum', 'data-mining', 'z.b', 'processing', 'neuronal', 'netz', 'müssen', 'entwickeln', 'einfach', 'deep', 'wichtig', 'viele', 'unit', 'python', 'neu', 'lisp', 'ki-entwicklung', 'graphisch', 'geben', 'feature', 'facebook', 'entwicklung', 'dabei', 'besonders', 'zusammenhang', 'vielleicht', 'verfügung', 'tpus', 'system', 'synapsen', 'stehen', 'sprache', 'sollen', 'signal', 'schnell', 'quelle', 'parallelverarbeitung', 'möglich', 'methode', 'likes', 'like-button', 'leistungsfähig', 'https', 'groß', 'googeln', 'gewichtet', 'gehen', 'geeignet', 'erregung', 'einzeln', 'eigentlich', 'bzw', 'bieten', 'bewohner', 'bereits', 'bedeuten', 'art', 'anhand', 'übertragen', 'zusätzlich', 'zelle', 'wissenschaftlich', 'wesentlich', 'wert', 'weit', 'web', 'vortrag', 'vorhersagen', 'vorhanden', 'vision', 'verwendet', 'verstärken', 'vernetzen', 'verfügen', 'verbunden', 'verbreitet', 'verarbeitung', 'usw', 'untersuchung', 'unterstützen', 'unterschiedlich', 'unklar', 'u.a', 'to', 'tensorflow', 'teilgebiet', 'symbolisch', 'spielen', 'speziell', 'reihe', 'regel', 'programmierung', 'natural', 'nano', 'möglichkeit', 'modern', 'modell', 'ml', 'menschlich', 'mehreren', 'maschine', 'liegen', 'language', 'knn', 'julia', 'intelligent', 'intelligence', 'inhalt', 'information', 'hoch', 'heißen', 'heizung', 'gpu', 'gewissen', 'gehirnzell', 'gehirn', 'ganz', 'form', 'folgend', 'flux', 'facebook-seit', 'erst', 'erreichen', 'entwerfen', 'entsprechend', 'enthalten', 'einstellung', 'einsetzen', 'eingehend', 'durchaus', 'denen', 'david', 'darstellen', 'dagegen', 'dafür', 'computer', 'chemisch', 'bezeichnen', 'beschreiben', 'berechnung', 'berechnen', 'beobachtet', 'beispiel', 'begriff', 'automatisch', 'aufweisen', 'aufruf', 'aufgabe', 'artificial', 'anzahl', 'anwendungsgebiet', 'anforderung', 'analysieren', 'anaconda', 'allerdings', 'algorithmen', '=', '128-kern', '07.02.2022', '–', 'überwiegend', 'überschreiten', 'überhaupt', 'übergangsstelle', 'öffnen', 'zweitälteste', 'zustimmung', 'zusammen', 'zugrunde', 'zudem', 'ziel', 'zeitlich', 'zahl', 'wohnung', 'wissen', 'windowsto', 'wiederum', 'werkzeuge', 'werden.traditionelle', 'werden.mit', 'werden.lisp', 'wenn-dann-beziehung', 'wenn-dann-anweisung', 'welt', 'weiteres', 'weitere', 'wegen', 'webentwicklern', 'warum', 'wartungsfreundlichkeit', 'wann', 'wahrscheinlich', 'wahlwerbung', 'wahl', 'wachsend', 'wachsen', 'vorteil', 'vornehmen', 'vorliebe', 'vorherzusagend', 'vorhersage', 'vorbereitend', 'vielzahl', 'verweildauer', 'verstehen', 'verlassen', 'verhalten', 'vergleichbar.https', 'verfügbar', 'vereinigen', 'vereinfachen.die', 'vereinfachen', 'verbindungenhttps', 'verbindung', 'verarbeitungsgeschwindigkeit', 'verarbeitungs-', 'usw.c++', 'untersuchen', 'unterscheiden', 'unternehmen', 'unbedingt', 'umstritten', 'umstand', 'umreißen', 'umgang', 'trend', 'trainingsprozess', 'training', 'traditionell', 'tief', 'the', 'tensorflowjava', 'tensorflow.js', 'teilbereich', 'teil', 'technik', 'teachable', 'tausend', 'tabelle', 'syntax', 'synaptisch', 'synapse', 'symptom', 'subsymbolisch', 'strategie', 'statt', 'statistisch', 'spracherkennung', 'spiegel-mining', 'spezifizieren', 'speicherung', 'speichern', 'spalt', 'sowohl', 'source-bibliothek', 'sogenannter', 'sog', 'softwaresammlung', 'software-paketmanagement', 'sinn', 'siezen', 'sicher', 'services', 'semantrisquick', 'seinerseits', 'scraping', 'scissorsdiskutiere', 'schätzen', 'schwellenpotential', 'schrittweise', 'schritt', 'schriftlich', 'schnittstelle', 'schnee', 'schlüssel', 'schlussendlich', 'schließen', 'scenario', 'sammlung', 'rückschluß', 'rolle', 'rock', 'ressourcensparend', 'resourcensparender', 'repräsentieren', 'relativ', 'reihen', 'regelmäßigkeit', 'regelbasierter', 'rechnen', 'rechenkerne', 'realisieren', 'realisert', 'rasperry', 'rasch', 'quelloffene', 'python-entwicklungswerkzeuge', 'prozeß', 'prozessschritte', 'prototyping-tool', 'programmpaket', 'programmierungbeim', 'programmatisch', 'prognose', 'problem', 'probieren', 'positiv', 'politisch', 'plattform', 'pi', 'personell', 'personalisiert', 'partnerarbeit', 'parallel', 'pap', 'option', 'optimiert.jetson', 'optimieren', 'opencv.javascript', 'opencv', 'open-source-bibliothek', 'open', 'online', 'oft', 'offiziell', 'obwohl', 'objekteidentifizierung', 'nützlich', 'nächster', 'nvidia', 'nutzung', 'nutzer', 'notwendig', 'notieren', 'notebooks', 'notebook', 'nlp', 'nicht-kommerziell', 'nicht-', 'neurotransmitter', 'neuronob', 'nervenzellen.ein', 'nervenzell', 'nervenverbindungen.informationstechnisch', 'nervensystem', 'nervenfasern', 'nerven-', 'nehmen', 'negativ', 'neben', 'najeebnik21/activation-function-in-deep-learning-587e83d5a681', 'nahe', 'nacheinander', 'nachbildung', 'nachbilden', 'mündlich', 'ml-programmpaket', 'mittels', 'missverständlich', 'mining', 'mine', 'mindestanzahl', 'milliarde', 'mikrocontrollern', 'messen', 'merkmal', 'mensch', 'menge', 'mehrere', 'matrizenrechnung', 'mathematisch', 'manipulation', 'lösungweg', 'lösungsvorschlag', 'lösung', 'liste', 'like', 'liegend', 'letzteres', 'letzter', 'lernprozess', 'lernendabei', 'lernend', 'leistungsschwach', 'leistungsfähigkeit', 'leistungsfähig.die', 'leicht', 'learning-bibliotheken', 'lay', 'laufen', 'lange', 'kurs', 'kritisch', 'kriesels', 'kriesel', 'krankheit', 'kostenlos', 'kontrollstrukturen', 'kompliziert', 'komplexität', 'komplett', 'kommunikation', 'kommen', 'knowledge', 'klassisch', 'klassifizieren', 'klassifikationproblem', 'ki-systeme', 'ki-spiele', 'ki-projekten', 'ki-projekte', 'ki-programmierung', 'ki-programmbibliotheken', 'ki-programmbibliothek', 'ki-modell', 'ki-domainen', 'ki-bibliotheken', 'ki-bibliothek', 'ki-anwendungsgebiete', 'ki-', 'kennen', 'kdd-prozessdata-mining', 'kaufverhalten', 'jupyter-notebooks', 'jupyter-notebook-anbietern', 'jupyter-notebook', 'jupyter', 'jeweilig', 'jetson', 'je', 'javascript', 'java', 'ist.natürlich', 'internetseite', 'internetbrowser', 'internet', 'interessieren', 'interaktiv', 'intel', 'insbesondere', 'informatik', 'individual', 'implementierungsbeispielen', 'immer', 'hören', 'häufig', 'hängen', 'huskys', 'hundert', 'hund', 'hinblick', 'hinaus', 'high-level-tools', 'hierfür', 'hierbei', 'hidden', 'heute', 'hervorragend', 'herausfinden', 'helfen', 'heizen', 'handeln', 'gültig', 'gängig', 'größe', 'grund', 'grenze', 'graphic', 'graben', 'gpuder', 'googles', 'gliazell', 'gleichzeitig', 'gewiß', 'gewichtung', 'gespeichert', 'gesetzmäßigkeit', 'geschlecht', 'gesamt', 'genauso', 'gelten', 'gegensatz', 'gefahr', 'gebrauch', 'förderung', 'fördern', 'fällen', 'früh', 'fortschritt', 'fortran', 'formel', 'fließkomma-berechnung', 'finden', 'feueren', 'feuer', 'feststellen', 'fest', 'fehlend', 'fallen', 'fall', 'facebook-seitenaufrufe', 'expertensystem', 'experimentell', 'evaluieren', 'etwa', 'eröffnet', 'erwartet', 'erster', 'erstellen', 'erregen', 'ermöglichen', 'erlernen', 'erklären', 'erhalten', 'ergebnis', 'erfreuen', 'erfassung', 'entwicklungsumgebung', 'engl', 'eng', 'ende', 'empfangen', 'eintreffen', 'einplatinen-rechner', 'eingesetzt.gelegentlich', 'eingebettet', 'einführung', 'einführen', 'einflussen', 'ehesten', 'egal', 'effektivität', 'effekt', 'edition', 'echt', 'duzen', 'durchsatz', 'draw', 'doquelle', 'do', 'dl4j', 'distribution', 'diskutieren', 'discovery', 'direkt', 'difference', 'diagnostizieren', 'deutsch', 'deren', 'demokratie', 'demnach', 'definition', 'deeplearning4j', 'debugging', 'datumensatz', 'datumenmenge', 'datumenanalyse', 'datenvisualisierung', 'datenreihen', 'datenmustererkennung', 'datenmerkmalen', 'datenmengen', 'datenexploration', 'datenanalysen', 'databases', 'data', 'darunter', 'darum', 'darauf', 'daran', 'dar', 'daneben', 'd.h.', 'cpus', 'cpu-leistung', 'cor', 'compute', 'communities', 'codebasis', 'client-server-anwendung', 'cli', 'chip', 'central', 'ca', 'c++', 'botenstoff', 'bleiben', 'biologisch', 'binäres', 'billiarde', 'bilderkennung', 'bild', 'bias', 'bezeichnen.data-mining', 'bevorzugen', 'between', 'betrieb', 'bestmöglich', 'bestimmt', 'bestimmen', 'bestehen', 'besonderer', 'beschleunigen', 'benutzeroberfläche', 'benutzer-', 'benutzer', 'beliebtheit', 'beliebt', 'bekannte', 'beispiesweise', 'beim', 'befinden', 'befehl', 'befassen', 'bedeutend', 'bearbeiten', 'basis', 'automatisierung', 'auswerten', 'auswahl', 'aussagen', 'auslegen', 'ausführung', 'ausführen', 'aufsummierung', 'aufsummieren', 'aufführen', 'aufbereitung', 'aufbereiten', 'aufarbeitung', 'asics', 'anwesenheitsdatum', 'anwendungsspezifisch', 'ansprache', 'ansatz', 'anpassungsfähig', 'angesichts', 'aneinander', 'and', 'alternative', 'alter', 'allgemein', 'allein', 'aktiv', 'ai', 'abweichung', 'absolut', 'abschwächen', 'abschalten', 'abkürzung', 'abgleichen', 'abgeben', 'abbau', 'ab.gewichtung', 'ab.den', '@', '90', '31.12.2021', '2018', '2009', '20.02.2022', '1958', '17.02.2022', '1', '//realpython.com/jupyter-notebook-introduction/', '//nl.dreamstime.com/transmissie-van-het-zenuwsignaal-tussen-twee-neuronen-met-axon-en-synaps-close-up-een-chemische-neurale-mededeling-vectordiagram-image153760677', '//medium.com/', '//developer.nvidia.com/embedded/dlc/jetson-nano-system-module-datasheettensor', '//bootcamp.berkeley.edu/blog/ai-programming-languages/', '.der', '-verteilung', '-prinzip', '-entdeckung', '-bibliotheken']\n"
          ]
        }
      ]
    },
    {
      "cell_type": "code",
      "source": [
        "# define a function bagofwords with the following input: page and words\n",
        "def bagofwords(data, vocab):\n",
        "    # frequency word count\n",
        "    bag = np.zeros(len(vocab)) #create a NumPy array made up of zeroes with size len(words)\n",
        "    # loop through data and add value of 1 when token is present in the tweet\n",
        "    for sw in data:\n",
        "        for i,word in enumerate(vocab):\n",
        "            if word == sw: \n",
        "                bag[i] += 1\n",
        "                \n",
        "    return np.array(bag) # return the bag of word for one page"
      ],
      "metadata": {
        "id": "kus5yifih-9q"
      },
      "execution_count": 13,
      "outputs": []
    },
    {
      "cell_type": "code",
      "source": [
        "test = ['künstlich', 'intelligenz', 'maschinell']\n",
        "bagofwords(test, vocab)"
      ],
      "metadata": {
        "colab": {
          "base_uri": "https://localhost:8080/"
        },
        "id": "6T8b-f4UjonJ",
        "outputId": "8269ab6b-88c2-407b-accb-cd3e6f8736d1"
      },
      "execution_count": 14,
      "outputs": [
        {
          "output_type": "execute_result",
          "data": {
            "text/plain": [
              "array([1., 1., 0., 0., 0., 0., 0., 1., 0., 0., 0., 0., 0., 0., 0., 0., 0.,\n",
              "       0., 0., 0., 0., 0., 0., 0., 0., 0., 0., 0., 0., 0., 0., 0., 0., 0.,\n",
              "       0., 0., 0., 0., 0., 0., 0., 0., 0., 0., 0., 0., 0., 0., 0., 0., 0.,\n",
              "       0., 0., 0., 0., 0., 0., 0., 0., 0., 0., 0., 0., 0., 0., 0., 0., 0.,\n",
              "       0., 0., 0., 0., 0., 0., 0., 0., 0., 0., 0., 0., 0., 0., 0., 0., 0.,\n",
              "       0., 0., 0., 0., 0., 0., 0., 0., 0., 0., 0., 0., 0., 0., 0., 0., 0.,\n",
              "       0., 0., 0., 0., 0., 0., 0., 0., 0., 0., 0., 0., 0., 0., 0., 0., 0.,\n",
              "       0., 0., 0., 0., 0., 0., 0., 0., 0., 0., 0., 0., 0., 0., 0., 0., 0.,\n",
              "       0., 0., 0., 0., 0., 0., 0., 0., 0., 0., 0., 0., 0., 0., 0., 0., 0.,\n",
              "       0., 0., 0., 0., 0., 0., 0., 0., 0., 0., 0., 0., 0., 0., 0., 0., 0.,\n",
              "       0., 0., 0., 0., 0., 0., 0., 0., 0., 0., 0., 0., 0., 0., 0., 0., 0.,\n",
              "       0., 0., 0., 0., 0., 0., 0., 0., 0., 0., 0., 0., 0., 0., 0., 0., 0.,\n",
              "       0., 0., 0., 0., 0., 0., 0., 0., 0., 0., 0., 0., 0., 0., 0., 0., 0.,\n",
              "       0., 0., 0., 0., 0., 0., 0., 0., 0., 0., 0., 0., 0., 0., 0., 0., 0.,\n",
              "       0., 0., 0., 0., 0., 0., 0., 0., 0., 0., 0., 0., 0., 0., 0., 0., 0.,\n",
              "       0., 0., 0., 0., 0., 0., 0., 0., 0., 0., 0., 0., 0., 0., 0., 0., 0.,\n",
              "       0., 0., 0., 0., 0., 0., 0., 0., 0., 0., 0., 0., 0., 0., 0., 0., 0.,\n",
              "       0., 0., 0., 0., 0., 0., 0., 0., 0., 0., 0., 0., 0., 0., 0., 0., 0.,\n",
              "       0., 0., 0., 0., 0., 0., 0., 0., 0., 0., 0., 0., 0., 0., 0., 0., 0.,\n",
              "       0., 0., 0., 0., 0., 0., 0., 0., 0., 0., 0., 0., 0., 0., 0., 0., 0.,\n",
              "       0., 0., 0., 0., 0., 0., 0., 0., 0., 0., 0., 0., 0., 0., 0., 0., 0.,\n",
              "       0., 0., 0., 0., 0., 0., 0., 0., 0., 0., 0., 0., 0., 0., 0., 0., 0.,\n",
              "       0., 0., 0., 0., 0., 0., 0., 0., 0., 0., 0., 0., 0., 0., 0., 0., 0.,\n",
              "       0., 0., 0., 0., 0., 0., 0., 0., 0., 0., 0., 0., 0., 0., 0., 0., 0.,\n",
              "       0., 0., 0., 0., 0., 0., 0., 0., 0., 0., 0., 0., 0., 0., 0., 0., 0.,\n",
              "       0., 0., 0., 0., 0., 0., 0., 0., 0., 0., 0., 0., 0., 0., 0., 0., 0.,\n",
              "       0., 0., 0., 0., 0., 0., 0., 0., 0., 0., 0., 0., 0., 0., 0., 0., 0.,\n",
              "       0., 0., 0., 0., 0., 0., 0., 0., 0., 0., 0., 0., 0., 0., 0., 0., 0.,\n",
              "       0., 0., 0., 0., 0., 0., 0., 0., 0., 0., 0., 0., 0., 0., 0., 0., 0.,\n",
              "       0., 0., 0., 0., 0., 0., 0., 0., 0., 0., 0., 0., 0., 0., 0., 0., 0.,\n",
              "       0., 0., 0., 0., 0., 0., 0., 0., 0., 0., 0., 0., 0., 0., 0., 0., 0.,\n",
              "       0., 0., 0., 0., 0., 0., 0., 0., 0., 0., 0., 0., 0., 0., 0., 0., 0.,\n",
              "       0., 0., 0., 0., 0., 0., 0., 0., 0., 0., 0., 0., 0., 0., 0., 0., 0.,\n",
              "       0., 0., 0., 0., 0., 0., 0., 0., 0., 0., 0., 0., 0., 0., 0., 0., 0.,\n",
              "       0., 0., 0., 0., 0., 0., 0., 0., 0., 0., 0., 0., 0., 0., 0., 0., 0.,\n",
              "       0., 0., 0., 0., 0., 0., 0., 0., 0., 0., 0., 0., 0., 0., 0., 0., 0.,\n",
              "       0., 0., 0., 0., 0., 0., 0., 0., 0., 0., 0., 0., 0., 0., 0., 0., 0.,\n",
              "       0., 0., 0., 0., 0., 0., 0., 0., 0., 0., 0., 0., 0., 0., 0., 0., 0.,\n",
              "       0., 0., 0., 0., 0., 0., 0., 0., 0., 0., 0., 0., 0., 0., 0., 0., 0.,\n",
              "       0., 0., 0., 0., 0., 0., 0., 0., 0., 0., 0., 0., 0., 0., 0., 0., 0.,\n",
              "       0., 0., 0., 0., 0., 0., 0., 0., 0.])"
            ]
          },
          "metadata": {},
          "execution_count": 14
        }
      ]
    },
    {
      "cell_type": "code",
      "execution_count": 15,
      "metadata": {
        "id": "Zt_jEv0nKFtB"
      },
      "outputs": [],
      "source": [
        "# set up a NumPy array with the specified dimension to contain the bag of words\n",
        "n_words = len(vocab)\n",
        "n_docs = len(data)\n",
        "bag_o = np.zeros([n_docs,n_words])\n",
        "# use loop function to add new row for each data of page. \n",
        "for ii in range(n_docs): \n",
        "    #call out the previous function 'bagofwords'. see the inputs: sentence and words\n",
        "    bag_o[ii,:] = bagofwords(data[ii][1], vocab) "
      ]
    },
    {
      "cell_type": "code",
      "source": [
        "bag_o.shape"
      ],
      "metadata": {
        "colab": {
          "base_uri": "https://localhost:8080/"
        },
        "id": "KZh_YmARpKw-",
        "outputId": "eb7ec73a-95c3-4ab5-f181-3045b4470e19"
      },
      "execution_count": 16,
      "outputs": [
        {
          "output_type": "execute_result",
          "data": {
            "text/plain": [
              "(22, 689)"
            ]
          },
          "metadata": {},
          "execution_count": 16
        }
      ]
    },
    {
      "cell_type": "markdown",
      "source": [
        "Inverse document frequency"
      ],
      "metadata": {
        "id": "pZHlKeXWt1Ju"
      }
    },
    {
      "cell_type": "code",
      "source": [
        "#initialize 2 variables representing the number of pages (numdocs) and the number of tokens/words (numwords)\n",
        "numdocs, numwords = np.shape(bag_o)\n",
        "\n",
        "#Changing into the tfidf formula as above\n",
        "N = numdocs\n",
        "term_frequency = np.empty(numwords)\n",
        "\n",
        "#Count the number of documents the word appears in.\n",
        "for word in range(numwords):\n",
        "    term_frequency[word]=np.sum(bag_o[:,word]>0) \n",
        "print(term_frequency)\n",
        "idf = np.log(N/term_frequency)\n",
        "print(idf)"
      ],
      "metadata": {
        "id": "zZfFS_vatzp-",
        "colab": {
          "base_uri": "https://localhost:8080/"
        },
        "outputId": "b95cc6cd-1226-4c40-9ce4-313efa56ef6b"
      },
      "execution_count": 17,
      "outputs": [
        {
          "output_type": "stream",
          "name": "stdout",
          "text": [
            "[5. 4. 3. 1. 1. 4. 5. 2. 2. 6. 2. 2. 4. 5. 3. 4. 3. 5. 2. 4. 4. 4. 2. 2.\n",
            " 2. 4. 3. 1. 1. 3. 1. 2. 4. 2. 2. 2. 2. 2. 2. 3. 2. 1. 1. 1. 1. 1. 2. 2.\n",
            " 1. 1. 3. 2. 3. 3. 1. 2. 1. 3. 2. 2. 2. 2. 1. 1. 2. 2. 2. 1. 1. 3. 3. 3.\n",
            " 2. 1. 2. 1. 2. 2. 1. 2. 2. 2. 2. 2. 2. 2. 2. 2. 2. 2. 1. 1. 2. 2. 2. 2.\n",
            " 2. 2. 2. 2. 1. 1. 2. 1. 2. 1. 2. 1. 1. 2. 1. 2. 1. 1. 2. 2. 2. 1. 1. 1.\n",
            " 2. 2. 1. 2. 2. 2. 1. 1. 2. 2. 1. 2. 2. 2. 1. 1. 1. 1. 1. 2. 2. 1. 2. 1.\n",
            " 1. 1. 2. 2. 2. 1. 2. 1. 2. 2. 2. 1. 2. 2. 2. 2. 1. 1. 2. 2. 2. 1. 2. 2.\n",
            " 1. 2. 2. 2. 1. 2. 1. 1. 1. 1. 1. 1. 1. 1. 1. 1. 1. 1. 1. 1. 1. 1. 1. 1.\n",
            " 1. 1. 1. 1. 1. 1. 1. 1. 1. 1. 1. 1. 1. 1. 1. 1. 1. 1. 1. 1. 1. 1. 1. 1.\n",
            " 1. 1. 1. 1. 1. 1. 1. 1. 1. 1. 1. 1. 1. 1. 1. 1. 1. 1. 1. 1. 1. 1. 1. 1.\n",
            " 1. 1. 1. 1. 1. 1. 1. 1. 1. 1. 1. 1. 1. 1. 1. 1. 1. 1. 1. 1. 1. 1. 1. 1.\n",
            " 1. 1. 1. 1. 1. 1. 1. 1. 1. 1. 1. 1. 1. 1. 1. 1. 1. 1. 1. 1. 1. 1. 1. 1.\n",
            " 1. 1. 1. 1. 1. 1. 1. 1. 1. 1. 1. 1. 1. 1. 1. 1. 1. 1. 1. 1. 1. 1. 1. 1.\n",
            " 1. 1. 1. 1. 1. 1. 1. 1. 1. 1. 1. 1. 1. 1. 1. 1. 1. 1. 1. 1. 1. 1. 1. 1.\n",
            " 1. 1. 1. 1. 1. 1. 1. 1. 1. 1. 1. 1. 1. 1. 1. 1. 1. 1. 1. 1. 1. 1. 1. 1.\n",
            " 1. 1. 1. 1. 1. 1. 1. 1. 1. 1. 1. 1. 1. 1. 1. 1. 1. 1. 1. 1. 1. 1. 1. 1.\n",
            " 1. 1. 1. 1. 1. 1. 1. 1. 1. 1. 1. 1. 1. 1. 1. 1. 1. 1. 1. 1. 1. 1. 1. 1.\n",
            " 1. 1. 1. 1. 1. 1. 1. 1. 1. 1. 1. 1. 1. 1. 1. 1. 1. 1. 1. 1. 1. 1. 1. 1.\n",
            " 1. 1. 1. 1. 1. 1. 1. 1. 1. 1. 1. 1. 1. 1. 1. 1. 1. 1. 1. 1. 1. 1. 1. 1.\n",
            " 1. 1. 1. 1. 1. 1. 1. 1. 1. 1. 1. 1. 1. 1. 1. 1. 1. 1. 1. 1. 1. 1. 1. 1.\n",
            " 1. 1. 1. 1. 1. 1. 1. 1. 1. 1. 1. 1. 1. 1. 1. 1. 1. 1. 1. 1. 1. 1. 1. 1.\n",
            " 1. 1. 1. 1. 1. 1. 1. 1. 1. 1. 1. 1. 1. 1. 1. 1. 1. 1. 1. 1. 1. 1. 1. 1.\n",
            " 1. 1. 1. 1. 1. 1. 1. 1. 1. 1. 1. 1. 1. 1. 1. 1. 1. 1. 1. 1. 1. 1. 1. 1.\n",
            " 1. 1. 1. 1. 1. 1. 1. 1. 1. 1. 1. 1. 1. 1. 1. 1. 1. 1. 1. 1. 1. 1. 1. 1.\n",
            " 1. 1. 1. 1. 1. 1. 1. 1. 1. 1. 1. 1. 1. 1. 1. 1. 1. 1. 1. 1. 1. 1. 1. 1.\n",
            " 1. 1. 1. 1. 1. 1. 1. 1. 1. 1. 1. 1. 1. 1. 1. 1. 1. 1. 1. 1. 1. 1. 1. 1.\n",
            " 1. 1. 1. 1. 1. 1. 1. 1. 1. 1. 1. 1. 1. 1. 1. 1. 1. 1. 1. 1. 1. 1. 1. 1.\n",
            " 1. 1. 1. 1. 1. 1. 1. 1. 1. 1. 1. 1. 1. 1. 1. 1. 1. 1. 1. 1. 1. 1. 1. 1.\n",
            " 1. 1. 1. 1. 1. 1. 1. 1. 1. 1. 1. 1. 1. 1. 1. 1. 1.]\n",
            "[1.48160454 1.70474809 1.99243016 3.09104245 3.09104245 1.70474809\n",
            " 1.48160454 2.39789527 2.39789527 1.29928298 2.39789527 2.39789527\n",
            " 1.70474809 1.48160454 1.99243016 1.70474809 1.99243016 1.48160454\n",
            " 2.39789527 1.70474809 1.70474809 1.70474809 2.39789527 2.39789527\n",
            " 2.39789527 1.70474809 1.99243016 3.09104245 3.09104245 1.99243016\n",
            " 3.09104245 2.39789527 1.70474809 2.39789527 2.39789527 2.39789527\n",
            " 2.39789527 2.39789527 2.39789527 1.99243016 2.39789527 3.09104245\n",
            " 3.09104245 3.09104245 3.09104245 3.09104245 2.39789527 2.39789527\n",
            " 3.09104245 3.09104245 1.99243016 2.39789527 1.99243016 1.99243016\n",
            " 3.09104245 2.39789527 3.09104245 1.99243016 2.39789527 2.39789527\n",
            " 2.39789527 2.39789527 3.09104245 3.09104245 2.39789527 2.39789527\n",
            " 2.39789527 3.09104245 3.09104245 1.99243016 1.99243016 1.99243016\n",
            " 2.39789527 3.09104245 2.39789527 3.09104245 2.39789527 2.39789527\n",
            " 3.09104245 2.39789527 2.39789527 2.39789527 2.39789527 2.39789527\n",
            " 2.39789527 2.39789527 2.39789527 2.39789527 2.39789527 2.39789527\n",
            " 3.09104245 3.09104245 2.39789527 2.39789527 2.39789527 2.39789527\n",
            " 2.39789527 2.39789527 2.39789527 2.39789527 3.09104245 3.09104245\n",
            " 2.39789527 3.09104245 2.39789527 3.09104245 2.39789527 3.09104245\n",
            " 3.09104245 2.39789527 3.09104245 2.39789527 3.09104245 3.09104245\n",
            " 2.39789527 2.39789527 2.39789527 3.09104245 3.09104245 3.09104245\n",
            " 2.39789527 2.39789527 3.09104245 2.39789527 2.39789527 2.39789527\n",
            " 3.09104245 3.09104245 2.39789527 2.39789527 3.09104245 2.39789527\n",
            " 2.39789527 2.39789527 3.09104245 3.09104245 3.09104245 3.09104245\n",
            " 3.09104245 2.39789527 2.39789527 3.09104245 2.39789527 3.09104245\n",
            " 3.09104245 3.09104245 2.39789527 2.39789527 2.39789527 3.09104245\n",
            " 2.39789527 3.09104245 2.39789527 2.39789527 2.39789527 3.09104245\n",
            " 2.39789527 2.39789527 2.39789527 2.39789527 3.09104245 3.09104245\n",
            " 2.39789527 2.39789527 2.39789527 3.09104245 2.39789527 2.39789527\n",
            " 3.09104245 2.39789527 2.39789527 2.39789527 3.09104245 2.39789527\n",
            " 3.09104245 3.09104245 3.09104245 3.09104245 3.09104245 3.09104245\n",
            " 3.09104245 3.09104245 3.09104245 3.09104245 3.09104245 3.09104245\n",
            " 3.09104245 3.09104245 3.09104245 3.09104245 3.09104245 3.09104245\n",
            " 3.09104245 3.09104245 3.09104245 3.09104245 3.09104245 3.09104245\n",
            " 3.09104245 3.09104245 3.09104245 3.09104245 3.09104245 3.09104245\n",
            " 3.09104245 3.09104245 3.09104245 3.09104245 3.09104245 3.09104245\n",
            " 3.09104245 3.09104245 3.09104245 3.09104245 3.09104245 3.09104245\n",
            " 3.09104245 3.09104245 3.09104245 3.09104245 3.09104245 3.09104245\n",
            " 3.09104245 3.09104245 3.09104245 3.09104245 3.09104245 3.09104245\n",
            " 3.09104245 3.09104245 3.09104245 3.09104245 3.09104245 3.09104245\n",
            " 3.09104245 3.09104245 3.09104245 3.09104245 3.09104245 3.09104245\n",
            " 3.09104245 3.09104245 3.09104245 3.09104245 3.09104245 3.09104245\n",
            " 3.09104245 3.09104245 3.09104245 3.09104245 3.09104245 3.09104245\n",
            " 3.09104245 3.09104245 3.09104245 3.09104245 3.09104245 3.09104245\n",
            " 3.09104245 3.09104245 3.09104245 3.09104245 3.09104245 3.09104245\n",
            " 3.09104245 3.09104245 3.09104245 3.09104245 3.09104245 3.09104245\n",
            " 3.09104245 3.09104245 3.09104245 3.09104245 3.09104245 3.09104245\n",
            " 3.09104245 3.09104245 3.09104245 3.09104245 3.09104245 3.09104245\n",
            " 3.09104245 3.09104245 3.09104245 3.09104245 3.09104245 3.09104245\n",
            " 3.09104245 3.09104245 3.09104245 3.09104245 3.09104245 3.09104245\n",
            " 3.09104245 3.09104245 3.09104245 3.09104245 3.09104245 3.09104245\n",
            " 3.09104245 3.09104245 3.09104245 3.09104245 3.09104245 3.09104245\n",
            " 3.09104245 3.09104245 3.09104245 3.09104245 3.09104245 3.09104245\n",
            " 3.09104245 3.09104245 3.09104245 3.09104245 3.09104245 3.09104245\n",
            " 3.09104245 3.09104245 3.09104245 3.09104245 3.09104245 3.09104245\n",
            " 3.09104245 3.09104245 3.09104245 3.09104245 3.09104245 3.09104245\n",
            " 3.09104245 3.09104245 3.09104245 3.09104245 3.09104245 3.09104245\n",
            " 3.09104245 3.09104245 3.09104245 3.09104245 3.09104245 3.09104245\n",
            " 3.09104245 3.09104245 3.09104245 3.09104245 3.09104245 3.09104245\n",
            " 3.09104245 3.09104245 3.09104245 3.09104245 3.09104245 3.09104245\n",
            " 3.09104245 3.09104245 3.09104245 3.09104245 3.09104245 3.09104245\n",
            " 3.09104245 3.09104245 3.09104245 3.09104245 3.09104245 3.09104245\n",
            " 3.09104245 3.09104245 3.09104245 3.09104245 3.09104245 3.09104245\n",
            " 3.09104245 3.09104245 3.09104245 3.09104245 3.09104245 3.09104245\n",
            " 3.09104245 3.09104245 3.09104245 3.09104245 3.09104245 3.09104245\n",
            " 3.09104245 3.09104245 3.09104245 3.09104245 3.09104245 3.09104245\n",
            " 3.09104245 3.09104245 3.09104245 3.09104245 3.09104245 3.09104245\n",
            " 3.09104245 3.09104245 3.09104245 3.09104245 3.09104245 3.09104245\n",
            " 3.09104245 3.09104245 3.09104245 3.09104245 3.09104245 3.09104245\n",
            " 3.09104245 3.09104245 3.09104245 3.09104245 3.09104245 3.09104245\n",
            " 3.09104245 3.09104245 3.09104245 3.09104245 3.09104245 3.09104245\n",
            " 3.09104245 3.09104245 3.09104245 3.09104245 3.09104245 3.09104245\n",
            " 3.09104245 3.09104245 3.09104245 3.09104245 3.09104245 3.09104245\n",
            " 3.09104245 3.09104245 3.09104245 3.09104245 3.09104245 3.09104245\n",
            " 3.09104245 3.09104245 3.09104245 3.09104245 3.09104245 3.09104245\n",
            " 3.09104245 3.09104245 3.09104245 3.09104245 3.09104245 3.09104245\n",
            " 3.09104245 3.09104245 3.09104245 3.09104245 3.09104245 3.09104245\n",
            " 3.09104245 3.09104245 3.09104245 3.09104245 3.09104245 3.09104245\n",
            " 3.09104245 3.09104245 3.09104245 3.09104245 3.09104245 3.09104245\n",
            " 3.09104245 3.09104245 3.09104245 3.09104245 3.09104245 3.09104245\n",
            " 3.09104245 3.09104245 3.09104245 3.09104245 3.09104245 3.09104245\n",
            " 3.09104245 3.09104245 3.09104245 3.09104245 3.09104245 3.09104245\n",
            " 3.09104245 3.09104245 3.09104245 3.09104245 3.09104245 3.09104245\n",
            " 3.09104245 3.09104245 3.09104245 3.09104245 3.09104245 3.09104245\n",
            " 3.09104245 3.09104245 3.09104245 3.09104245 3.09104245 3.09104245\n",
            " 3.09104245 3.09104245 3.09104245 3.09104245 3.09104245 3.09104245\n",
            " 3.09104245 3.09104245 3.09104245 3.09104245 3.09104245 3.09104245\n",
            " 3.09104245 3.09104245 3.09104245 3.09104245 3.09104245 3.09104245\n",
            " 3.09104245 3.09104245 3.09104245 3.09104245 3.09104245 3.09104245\n",
            " 3.09104245 3.09104245 3.09104245 3.09104245 3.09104245 3.09104245\n",
            " 3.09104245 3.09104245 3.09104245 3.09104245 3.09104245 3.09104245\n",
            " 3.09104245 3.09104245 3.09104245 3.09104245 3.09104245 3.09104245\n",
            " 3.09104245 3.09104245 3.09104245 3.09104245 3.09104245 3.09104245\n",
            " 3.09104245 3.09104245 3.09104245 3.09104245 3.09104245 3.09104245\n",
            " 3.09104245 3.09104245 3.09104245 3.09104245 3.09104245 3.09104245\n",
            " 3.09104245 3.09104245 3.09104245 3.09104245 3.09104245 3.09104245\n",
            " 3.09104245 3.09104245 3.09104245 3.09104245 3.09104245 3.09104245\n",
            " 3.09104245 3.09104245 3.09104245 3.09104245 3.09104245 3.09104245\n",
            " 3.09104245 3.09104245 3.09104245 3.09104245 3.09104245 3.09104245\n",
            " 3.09104245 3.09104245 3.09104245 3.09104245 3.09104245 3.09104245\n",
            " 3.09104245 3.09104245 3.09104245 3.09104245 3.09104245 3.09104245\n",
            " 3.09104245 3.09104245 3.09104245 3.09104245 3.09104245 3.09104245\n",
            " 3.09104245 3.09104245 3.09104245 3.09104245 3.09104245 3.09104245\n",
            " 3.09104245 3.09104245 3.09104245 3.09104245 3.09104245 3.09104245\n",
            " 3.09104245 3.09104245 3.09104245 3.09104245 3.09104245 3.09104245\n",
            " 3.09104245 3.09104245 3.09104245 3.09104245 3.09104245 3.09104245\n",
            " 3.09104245 3.09104245 3.09104245 3.09104245 3.09104245 3.09104245\n",
            " 3.09104245 3.09104245 3.09104245 3.09104245 3.09104245 3.09104245\n",
            " 3.09104245 3.09104245 3.09104245 3.09104245 3.09104245 3.09104245\n",
            " 3.09104245 3.09104245 3.09104245 3.09104245 3.09104245 3.09104245\n",
            " 3.09104245 3.09104245 3.09104245 3.09104245 3.09104245 3.09104245\n",
            " 3.09104245 3.09104245 3.09104245 3.09104245 3.09104245 3.09104245\n",
            " 3.09104245 3.09104245 3.09104245 3.09104245 3.09104245 3.09104245\n",
            " 3.09104245 3.09104245 3.09104245 3.09104245 3.09104245 3.09104245\n",
            " 3.09104245 3.09104245 3.09104245 3.09104245 3.09104245 3.09104245\n",
            " 3.09104245 3.09104245 3.09104245 3.09104245 3.09104245]\n"
          ]
        }
      ]
    },
    {
      "cell_type": "code",
      "source": [
        "#initializs tfidf array\n",
        "tfidf = np.empty([numdocs, numwords])\n",
        "\n",
        "#loop through the pages, multiply term frequency (represented by bag of words) with idf\n",
        "for doc in range(numdocs):\n",
        "    tfidf[doc, :]=bag_o[doc, :]*idf"
      ],
      "metadata": {
        "id": "lvNFYPM0XVIa"
      },
      "execution_count": 18,
      "outputs": []
    },
    {
      "cell_type": "code",
      "source": [
        "tfidf.shape"
      ],
      "metadata": {
        "colab": {
          "base_uri": "https://localhost:8080/"
        },
        "id": "Hw4X28HLunqf",
        "outputId": "eccda5a7-01cb-48d8-9db0-bb4087e7ccf1"
      },
      "execution_count": 19,
      "outputs": [
        {
          "output_type": "execute_result",
          "data": {
            "text/plain": [
              "(22, 689)"
            ]
          },
          "metadata": {},
          "execution_count": 19
        }
      ]
    },
    {
      "cell_type": "code",
      "source": [
        "print (tfidf)"
      ],
      "metadata": {
        "id": "psVdAxNMwESb",
        "outputId": "3943fa3a-3551-47a3-f035-8312bd534901",
        "colab": {
          "base_uri": "https://localhost:8080/"
        }
      },
      "execution_count": 20,
      "outputs": [
        {
          "output_type": "stream",
          "name": "stdout",
          "text": [
            "[[ 0.          0.          0.         ...  0.          0.\n",
            "   0.        ]\n",
            " [ 0.          0.          0.         ...  0.          0.\n",
            "   0.        ]\n",
            " [ 8.88962725 10.22848855 11.95458099 ...  0.          0.\n",
            "   0.        ]\n",
            " ...\n",
            " [ 0.          1.70474809  0.         ...  0.          0.\n",
            "   0.        ]\n",
            " [ 0.          0.          0.         ...  0.          0.\n",
            "   0.        ]\n",
            " [ 0.          0.          0.         ...  0.          0.\n",
            "   0.        ]]\n"
          ]
        }
      ]
    },
    {
      "cell_type": "markdown",
      "source": [
        "This data can be saved so that it does not have to be determined each time with web crawling and NLP (could be done as a task once a day)."
      ],
      "metadata": {
        "id": "bwDDac3d6GNy"
      }
    },
    {
      "cell_type": "code",
      "source": [
        "filename = \"tfidf.npy\"   # file extension has to be \"npy\"\n",
        "np.save(filename,tfidf)  # numpy provides file functions"
      ],
      "metadata": {
        "id": "_5Shtx-I6ojA"
      },
      "execution_count": 21,
      "outputs": []
    },
    {
      "cell_type": "markdown",
      "source": [
        "The data can be loaded by this:"
      ],
      "metadata": {
        "id": "QV68a3IRAkBt"
      }
    },
    {
      "cell_type": "code",
      "source": [
        "tfidf=np.load(filename)"
      ],
      "metadata": {
        "id": "Il36TN8iAYqO"
      },
      "execution_count": 22,
      "outputs": []
    },
    {
      "cell_type": "code",
      "source": [
        "# search string\n",
        "search='Anaconda installieren maschinell maschinell künstlich'\n",
        "\n",
        "processed = processText(search)\n",
        "print(processed)\n",
        "search_vector = bagofwords(processed, vocab)\n",
        "print(search_vector)\n",
        "\n",
        "#calculate tfidf \n",
        "term_frequency = np.empty(numwords)\n",
        "\n",
        "#Count the number of documents the search word appears in.\n",
        "for word in range(numwords):\n",
        "    term_frequency[word]=np.sum(search_vector[word]>0) \n",
        "print(term_frequency)\n",
        "\n",
        "#initializs tfidf array\n",
        "search_tfidf = np.empty([numwords])\n",
        "\n",
        "#multiply term frequency (represented by bag of words) with idf\n",
        "search_tfidf = term_frequency * idf\n",
        "\n",
        "print(search_tfidf)"
      ],
      "metadata": {
        "colab": {
          "base_uri": "https://localhost:8080/"
        },
        "id": "kwMQCpAq02ZL",
        "outputId": "c9d02526-5419-4876-920c-3c479809540e"
      },
      "execution_count": 23,
      "outputs": [
        {
          "output_type": "stream",
          "name": "stdout",
          "text": [
            "['anaconda', 'installieren', 'maschinell', 'maschinell', 'künstlich']\n",
            "[1. 2. 0. 0. 0. 0. 0. 0. 0. 0. 0. 0. 0. 0. 0. 0. 0. 0. 0. 0. 0. 0. 0. 0.\n",
            " 0. 0. 0. 0. 0. 0. 0. 0. 0. 0. 0. 0. 0. 0. 0. 0. 0. 0. 0. 0. 0. 0. 0. 0.\n",
            " 0. 0. 0. 0. 0. 0. 0. 0. 0. 0. 0. 0. 0. 0. 0. 0. 0. 0. 0. 0. 0. 0. 0. 0.\n",
            " 0. 0. 0. 0. 0. 0. 0. 0. 0. 0. 0. 0. 0. 0. 0. 0. 0. 0. 0. 0. 0. 0. 0. 0.\n",
            " 0. 0. 0. 0. 0. 0. 0. 0. 0. 0. 0. 0. 0. 0. 0. 0. 0. 0. 0. 0. 0. 0. 0. 0.\n",
            " 0. 0. 0. 0. 0. 0. 0. 0. 0. 0. 0. 0. 0. 0. 0. 0. 0. 0. 0. 0. 0. 0. 0. 0.\n",
            " 0. 0. 0. 0. 0. 0. 0. 0. 0. 0. 0. 0. 0. 0. 0. 0. 0. 0. 0. 0. 0. 0. 0. 0.\n",
            " 1. 0. 0. 0. 0. 0. 0. 0. 0. 0. 0. 0. 0. 0. 0. 0. 0. 0. 0. 0. 0. 0. 0. 0.\n",
            " 0. 0. 0. 0. 0. 0. 0. 0. 0. 0. 0. 0. 0. 0. 0. 0. 0. 0. 0. 0. 0. 0. 0. 0.\n",
            " 0. 0. 0. 0. 0. 0. 0. 0. 0. 0. 0. 0. 0. 0. 0. 0. 0. 0. 0. 0. 0. 0. 0. 0.\n",
            " 0. 0. 0. 0. 0. 0. 0. 0. 0. 0. 0. 0. 0. 0. 0. 0. 0. 0. 0. 0. 0. 0. 0. 0.\n",
            " 0. 0. 0. 0. 0. 0. 0. 0. 0. 0. 0. 0. 0. 0. 0. 0. 0. 0. 0. 0. 0. 0. 0. 0.\n",
            " 0. 0. 0. 0. 0. 0. 0. 0. 0. 0. 0. 0. 0. 0. 0. 0. 0. 0. 0. 0. 0. 0. 0. 0.\n",
            " 0. 0. 0. 0. 0. 0. 0. 0. 0. 0. 0. 0. 0. 0. 0. 0. 0. 0. 0. 0. 0. 0. 0. 0.\n",
            " 0. 0. 0. 0. 0. 0. 0. 0. 0. 0. 0. 0. 0. 0. 0. 0. 0. 0. 0. 0. 0. 0. 0. 0.\n",
            " 0. 0. 0. 0. 0. 0. 0. 0. 0. 0. 0. 0. 0. 0. 0. 0. 0. 0. 0. 0. 0. 0. 0. 0.\n",
            " 0. 0. 0. 0. 0. 0. 0. 0. 0. 0. 0. 0. 0. 0. 0. 0. 0. 0. 0. 0. 0. 0. 0. 0.\n",
            " 0. 0. 0. 0. 0. 0. 0. 0. 0. 0. 0. 0. 0. 0. 0. 0. 0. 0. 0. 0. 0. 0. 0. 0.\n",
            " 0. 0. 0. 0. 0. 0. 0. 0. 0. 0. 0. 0. 0. 0. 0. 0. 0. 0. 0. 0. 0. 0. 0. 0.\n",
            " 0. 0. 0. 0. 0. 0. 0. 0. 0. 0. 0. 0. 0. 0. 0. 0. 0. 0. 0. 0. 0. 0. 0. 0.\n",
            " 0. 0. 0. 0. 0. 0. 0. 0. 0. 0. 0. 0. 0. 0. 0. 0. 0. 0. 0. 0. 0. 0. 0. 0.\n",
            " 0. 0. 0. 0. 0. 0. 0. 0. 0. 0. 0. 0. 0. 0. 0. 0. 0. 0. 0. 0. 0. 0. 0. 0.\n",
            " 0. 0. 0. 0. 0. 0. 0. 0. 0. 0. 0. 0. 0. 0. 0. 0. 0. 0. 0. 0. 0. 0. 0. 0.\n",
            " 0. 0. 0. 0. 0. 0. 0. 0. 0. 0. 0. 0. 0. 0. 0. 0. 0. 0. 0. 0. 0. 0. 0. 0.\n",
            " 0. 0. 0. 0. 0. 0. 0. 0. 0. 0. 0. 0. 0. 0. 0. 0. 0. 0. 0. 0. 0. 0. 0. 0.\n",
            " 0. 0. 0. 0. 0. 0. 0. 0. 0. 0. 0. 0. 0. 0. 0. 0. 0. 0. 0. 0. 0. 0. 0. 0.\n",
            " 0. 0. 0. 0. 0. 0. 0. 0. 0. 0. 0. 0. 0. 0. 0. 0. 0. 0. 0. 0. 0. 0. 0. 0.\n",
            " 0. 0. 0. 0. 0. 0. 0. 0. 0. 0. 0. 0. 0. 0. 0. 0. 0. 0. 0. 0. 0. 0. 0. 0.\n",
            " 0. 0. 0. 0. 0. 0. 0. 0. 0. 0. 0. 0. 0. 0. 0. 0. 0.]\n",
            "[1. 1. 0. 0. 0. 0. 0. 0. 0. 0. 0. 0. 0. 0. 0. 0. 0. 0. 0. 0. 0. 0. 0. 0.\n",
            " 0. 0. 0. 0. 0. 0. 0. 0. 0. 0. 0. 0. 0. 0. 0. 0. 0. 0. 0. 0. 0. 0. 0. 0.\n",
            " 0. 0. 0. 0. 0. 0. 0. 0. 0. 0. 0. 0. 0. 0. 0. 0. 0. 0. 0. 0. 0. 0. 0. 0.\n",
            " 0. 0. 0. 0. 0. 0. 0. 0. 0. 0. 0. 0. 0. 0. 0. 0. 0. 0. 0. 0. 0. 0. 0. 0.\n",
            " 0. 0. 0. 0. 0. 0. 0. 0. 0. 0. 0. 0. 0. 0. 0. 0. 0. 0. 0. 0. 0. 0. 0. 0.\n",
            " 0. 0. 0. 0. 0. 0. 0. 0. 0. 0. 0. 0. 0. 0. 0. 0. 0. 0. 0. 0. 0. 0. 0. 0.\n",
            " 0. 0. 0. 0. 0. 0. 0. 0. 0. 0. 0. 0. 0. 0. 0. 0. 0. 0. 0. 0. 0. 0. 0. 0.\n",
            " 1. 0. 0. 0. 0. 0. 0. 0. 0. 0. 0. 0. 0. 0. 0. 0. 0. 0. 0. 0. 0. 0. 0. 0.\n",
            " 0. 0. 0. 0. 0. 0. 0. 0. 0. 0. 0. 0. 0. 0. 0. 0. 0. 0. 0. 0. 0. 0. 0. 0.\n",
            " 0. 0. 0. 0. 0. 0. 0. 0. 0. 0. 0. 0. 0. 0. 0. 0. 0. 0. 0. 0. 0. 0. 0. 0.\n",
            " 0. 0. 0. 0. 0. 0. 0. 0. 0. 0. 0. 0. 0. 0. 0. 0. 0. 0. 0. 0. 0. 0. 0. 0.\n",
            " 0. 0. 0. 0. 0. 0. 0. 0. 0. 0. 0. 0. 0. 0. 0. 0. 0. 0. 0. 0. 0. 0. 0. 0.\n",
            " 0. 0. 0. 0. 0. 0. 0. 0. 0. 0. 0. 0. 0. 0. 0. 0. 0. 0. 0. 0. 0. 0. 0. 0.\n",
            " 0. 0. 0. 0. 0. 0. 0. 0. 0. 0. 0. 0. 0. 0. 0. 0. 0. 0. 0. 0. 0. 0. 0. 0.\n",
            " 0. 0. 0. 0. 0. 0. 0. 0. 0. 0. 0. 0. 0. 0. 0. 0. 0. 0. 0. 0. 0. 0. 0. 0.\n",
            " 0. 0. 0. 0. 0. 0. 0. 0. 0. 0. 0. 0. 0. 0. 0. 0. 0. 0. 0. 0. 0. 0. 0. 0.\n",
            " 0. 0. 0. 0. 0. 0. 0. 0. 0. 0. 0. 0. 0. 0. 0. 0. 0. 0. 0. 0. 0. 0. 0. 0.\n",
            " 0. 0. 0. 0. 0. 0. 0. 0. 0. 0. 0. 0. 0. 0. 0. 0. 0. 0. 0. 0. 0. 0. 0. 0.\n",
            " 0. 0. 0. 0. 0. 0. 0. 0. 0. 0. 0. 0. 0. 0. 0. 0. 0. 0. 0. 0. 0. 0. 0. 0.\n",
            " 0. 0. 0. 0. 0. 0. 0. 0. 0. 0. 0. 0. 0. 0. 0. 0. 0. 0. 0. 0. 0. 0. 0. 0.\n",
            " 0. 0. 0. 0. 0. 0. 0. 0. 0. 0. 0. 0. 0. 0. 0. 0. 0. 0. 0. 0. 0. 0. 0. 0.\n",
            " 0. 0. 0. 0. 0. 0. 0. 0. 0. 0. 0. 0. 0. 0. 0. 0. 0. 0. 0. 0. 0. 0. 0. 0.\n",
            " 0. 0. 0. 0. 0. 0. 0. 0. 0. 0. 0. 0. 0. 0. 0. 0. 0. 0. 0. 0. 0. 0. 0. 0.\n",
            " 0. 0. 0. 0. 0. 0. 0. 0. 0. 0. 0. 0. 0. 0. 0. 0. 0. 0. 0. 0. 0. 0. 0. 0.\n",
            " 0. 0. 0. 0. 0. 0. 0. 0. 0. 0. 0. 0. 0. 0. 0. 0. 0. 0. 0. 0. 0. 0. 0. 0.\n",
            " 0. 0. 0. 0. 0. 0. 0. 0. 0. 0. 0. 0. 0. 0. 0. 0. 0. 0. 0. 0. 0. 0. 0. 0.\n",
            " 0. 0. 0. 0. 0. 0. 0. 0. 0. 0. 0. 0. 0. 0. 0. 0. 0. 0. 0. 0. 0. 0. 0. 0.\n",
            " 0. 0. 0. 0. 0. 0. 0. 0. 0. 0. 0. 0. 0. 0. 0. 0. 0. 0. 0. 0. 0. 0. 0. 0.\n",
            " 0. 0. 0. 0. 0. 0. 0. 0. 0. 0. 0. 0. 0. 0. 0. 0. 0.]\n",
            "[1.48160454 1.70474809 0.         0.         0.         0.\n",
            " 0.         0.         0.         0.         0.         0.\n",
            " 0.         0.         0.         0.         0.         0.\n",
            " 0.         0.         0.         0.         0.         0.\n",
            " 0.         0.         0.         0.         0.         0.\n",
            " 0.         0.         0.         0.         0.         0.\n",
            " 0.         0.         0.         0.         0.         0.\n",
            " 0.         0.         0.         0.         0.         0.\n",
            " 0.         0.         0.         0.         0.         0.\n",
            " 0.         0.         0.         0.         0.         0.\n",
            " 0.         0.         0.         0.         0.         0.\n",
            " 0.         0.         0.         0.         0.         0.\n",
            " 0.         0.         0.         0.         0.         0.\n",
            " 0.         0.         0.         0.         0.         0.\n",
            " 0.         0.         0.         0.         0.         0.\n",
            " 0.         0.         0.         0.         0.         0.\n",
            " 0.         0.         0.         0.         0.         0.\n",
            " 0.         0.         0.         0.         0.         0.\n",
            " 0.         0.         0.         0.         0.         0.\n",
            " 0.         0.         0.         0.         0.         0.\n",
            " 0.         0.         0.         0.         0.         0.\n",
            " 0.         0.         0.         0.         0.         0.\n",
            " 0.         0.         0.         0.         0.         0.\n",
            " 0.         0.         0.         0.         0.         0.\n",
            " 0.         0.         0.         0.         0.         0.\n",
            " 0.         0.         0.         0.         0.         0.\n",
            " 0.         0.         0.         0.         0.         0.\n",
            " 0.         0.         0.         0.         0.         0.\n",
            " 3.09104245 0.         0.         0.         0.         0.\n",
            " 0.         0.         0.         0.         0.         0.\n",
            " 0.         0.         0.         0.         0.         0.\n",
            " 0.         0.         0.         0.         0.         0.\n",
            " 0.         0.         0.         0.         0.         0.\n",
            " 0.         0.         0.         0.         0.         0.\n",
            " 0.         0.         0.         0.         0.         0.\n",
            " 0.         0.         0.         0.         0.         0.\n",
            " 0.         0.         0.         0.         0.         0.\n",
            " 0.         0.         0.         0.         0.         0.\n",
            " 0.         0.         0.         0.         0.         0.\n",
            " 0.         0.         0.         0.         0.         0.\n",
            " 0.         0.         0.         0.         0.         0.\n",
            " 0.         0.         0.         0.         0.         0.\n",
            " 0.         0.         0.         0.         0.         0.\n",
            " 0.         0.         0.         0.         0.         0.\n",
            " 0.         0.         0.         0.         0.         0.\n",
            " 0.         0.         0.         0.         0.         0.\n",
            " 0.         0.         0.         0.         0.         0.\n",
            " 0.         0.         0.         0.         0.         0.\n",
            " 0.         0.         0.         0.         0.         0.\n",
            " 0.         0.         0.         0.         0.         0.\n",
            " 0.         0.         0.         0.         0.         0.\n",
            " 0.         0.         0.         0.         0.         0.\n",
            " 0.         0.         0.         0.         0.         0.\n",
            " 0.         0.         0.         0.         0.         0.\n",
            " 0.         0.         0.         0.         0.         0.\n",
            " 0.         0.         0.         0.         0.         0.\n",
            " 0.         0.         0.         0.         0.         0.\n",
            " 0.         0.         0.         0.         0.         0.\n",
            " 0.         0.         0.         0.         0.         0.\n",
            " 0.         0.         0.         0.         0.         0.\n",
            " 0.         0.         0.         0.         0.         0.\n",
            " 0.         0.         0.         0.         0.         0.\n",
            " 0.         0.         0.         0.         0.         0.\n",
            " 0.         0.         0.         0.         0.         0.\n",
            " 0.         0.         0.         0.         0.         0.\n",
            " 0.         0.         0.         0.         0.         0.\n",
            " 0.         0.         0.         0.         0.         0.\n",
            " 0.         0.         0.         0.         0.         0.\n",
            " 0.         0.         0.         0.         0.         0.\n",
            " 0.         0.         0.         0.         0.         0.\n",
            " 0.         0.         0.         0.         0.         0.\n",
            " 0.         0.         0.         0.         0.         0.\n",
            " 0.         0.         0.         0.         0.         0.\n",
            " 0.         0.         0.         0.         0.         0.\n",
            " 0.         0.         0.         0.         0.         0.\n",
            " 0.         0.         0.         0.         0.         0.\n",
            " 0.         0.         0.         0.         0.         0.\n",
            " 0.         0.         0.         0.         0.         0.\n",
            " 0.         0.         0.         0.         0.         0.\n",
            " 0.         0.         0.         0.         0.         0.\n",
            " 0.         0.         0.         0.         0.         0.\n",
            " 0.         0.         0.         0.         0.         0.\n",
            " 0.         0.         0.         0.         0.         0.\n",
            " 0.         0.         0.         0.         0.         0.\n",
            " 0.         0.         0.         0.         0.         0.\n",
            " 0.         0.         0.         0.         0.         0.\n",
            " 0.         0.         0.         0.         0.         0.\n",
            " 0.         0.         0.         0.         0.         0.\n",
            " 0.         0.         0.         0.         0.         0.\n",
            " 0.         0.         0.         0.         0.         0.\n",
            " 0.         0.         0.         0.         0.         0.\n",
            " 0.         0.         0.         0.         0.         0.\n",
            " 0.         0.         0.         0.         0.         0.\n",
            " 0.         0.         0.         0.         0.         0.\n",
            " 0.         0.         0.         0.         0.         0.\n",
            " 0.         0.         0.         0.         0.         0.\n",
            " 0.         0.         0.         0.         0.         0.\n",
            " 0.         0.         0.         0.         0.         0.\n",
            " 0.         0.         0.         0.         0.         0.\n",
            " 0.         0.         0.         0.         0.         0.\n",
            " 0.         0.         0.         0.         0.         0.\n",
            " 0.         0.         0.         0.         0.         0.\n",
            " 0.         0.         0.         0.         0.         0.\n",
            " 0.         0.         0.         0.         0.         0.\n",
            " 0.         0.         0.         0.         0.         0.\n",
            " 0.         0.         0.         0.         0.         0.\n",
            " 0.         0.         0.         0.         0.         0.\n",
            " 0.         0.         0.         0.         0.         0.\n",
            " 0.         0.         0.         0.         0.         0.\n",
            " 0.         0.         0.         0.         0.         0.\n",
            " 0.         0.         0.         0.         0.         0.\n",
            " 0.         0.         0.         0.         0.         0.\n",
            " 0.         0.         0.         0.         0.         0.\n",
            " 0.         0.         0.         0.         0.         0.\n",
            " 0.         0.         0.         0.         0.        ]\n"
          ]
        }
      ]
    },
    {
      "cell_type": "code",
      "source": [
        "#comparision with search vector without tfidf\n",
        "comparisons = cosine_similarity(tfidf, search_vector.reshape(1,-1))\n",
        "print(comparisons)\n",
        "#comparision with tfdif search vector => better results\n",
        "comparisons = cosine_similarity(tfidf, search_tfidf.reshape(1,-1))\n",
        "print(comparisons)"
      ],
      "metadata": {
        "colab": {
          "base_uri": "https://localhost:8080/"
        },
        "id": "6m3hCEhvIjh0",
        "outputId": "85ce35aa-53d5-47e6-fc59-1e5241f4d7b6"
      },
      "execution_count": 24,
      "outputs": [
        {
          "output_type": "stream",
          "name": "stdout",
          "text": [
            "[[0.        ]\n",
            " [0.        ]\n",
            " [0.29377071]\n",
            " [0.13097999]\n",
            " [0.03120689]\n",
            " [0.        ]\n",
            " [0.08877932]\n",
            " [0.        ]\n",
            " [0.02315032]\n",
            " [0.        ]\n",
            " [0.        ]\n",
            " [0.        ]\n",
            " [0.        ]\n",
            " [0.06380523]\n",
            " [0.18727287]\n",
            " [0.        ]\n",
            " [0.        ]\n",
            " [0.        ]\n",
            " [0.        ]\n",
            " [0.07751188]\n",
            " [0.        ]\n",
            " [0.        ]]\n",
            "[[0.        ]\n",
            " [0.        ]\n",
            " [0.19604431]\n",
            " [0.12416729]\n",
            " [0.02958372]\n",
            " [0.        ]\n",
            " [0.06503854]\n",
            " [0.        ]\n",
            " [0.0219462 ]\n",
            " [0.        ]\n",
            " [0.        ]\n",
            " [0.        ]\n",
            " [0.        ]\n",
            " [0.03479817]\n",
            " [0.37038193]\n",
            " [0.        ]\n",
            " [0.        ]\n",
            " [0.        ]\n",
            " [0.        ]\n",
            " [0.04227352]\n",
            " [0.        ]\n",
            " [0.        ]]\n"
          ]
        }
      ]
    },
    {
      "cell_type": "code",
      "source": [
        "# best result\n",
        "print(data[comparisons.argmax()][0])"
      ],
      "metadata": {
        "colab": {
          "base_uri": "https://localhost:8080/"
        },
        "id": "D1qKH9vXJW8u",
        "outputId": "b8f5b80d-ab37-442d-d60f-21a49891b190"
      },
      "execution_count": 25,
      "outputs": [
        {
          "output_type": "stream",
          "name": "stdout",
          "text": [
            "https://eick-at.de/moodle/mod/page/view.php?id=907\n"
          ]
        }
      ]
    }
  ]
}